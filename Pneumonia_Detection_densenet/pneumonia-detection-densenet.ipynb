{
 "cells": [
  {
   "cell_type": "markdown",
   "metadata": {
    "papermill": {
     "duration": 0.015045,
     "end_time": "2020-09-22T11:55:58.940651",
     "exception": false,
     "start_time": "2020-09-22T11:55:58.925606",
     "status": "completed"
    },
    "tags": []
   },
   "source": [
    "<h1>About Project </h1>\n",
    "In this notebook, we'll see how to use PyTorch to train a classifier to identify the presence of Pneumonia by looking at chest X Ray images. Through this project, we'll get familiar with the basics of transfer learning, PyTorch and convolutional neural networks. This project will culminate in a model that can predict the presence of pneumonia with human radiologist-level accuracy.<br>\n",
    "<br>\n",
    "<h2>What is Pneumonia?</h2>\n",
    "Pneumonia is a lung inflammation caused by a viral or bacterial infection that can range from mild to \n",
    "severe cases. This inflammation makes the patient unable to breathe enough oxygen to reach the bloodstream. \n",
    "It happens when an infection makes the air sacs (alveoli) in the lungs fill with fluid or pus that might \n",
    "affect either one or both lungs. If your doctor thinks you might have pneumonia, a chest X-ray will be\n",
    "performed to find the infection in the patient's lungs and how far it’s spread.  <a href=\"https://en.wikipedia.org/wiki/Pneumonia\">wikipedia</a><br><br>\n",
    "<h2>Pytorch</h2>\n",
    "is An open source deep learning platform that provides a seamless path from research prototyping to production deployment. <a href=\"https://pytorch.org/\">see the oficial web site</a><br>\n",
    "\n",
    "<h2>Dataset</h2><ul>\n",
    "<li><h3>Content</h3>\n",
    " The dataset is organized into 3 folders (train, test, val) and contains subfolders for each image category (Pneumonia/Normal). There are 5,863 X-Ray images (JPEG) and 2 categories (Pneumonia/Normal).\n",
    "\n",
    "Chest X-ray images (anterior-posterior) were selected from retrospective cohorts of pediatric patients of one to five years old from Guangzhou Women and Children’s Medical Center, Guangzhou. All chest X-ray imaging was performed as part of patients’ routine clinical care.\n",
    "\n",
    "For the analysis of chest x-ray images, all chest radiographs were initially screened for quality control by removing all low quality or unreadable scans. The diagnoses for the images were then graded by two expert physicians before being cleared for training the AI system. In order to account for any grading errors, the evaluation set was also checked by a third expert.\n",
    "</li><br>\n",
    "<li><h3>Acknowledgements</h3>\n",
    "Data: <a href=\"https://data.mendeley.com/datasets/rscbjbr9sj/2\">\n",
    "    https://data.mendeley.com/datasets/rscbjbr9sj/2</a> <br>\n",
    "License: CC BY 4.0 <br>\n",
    "Citation: <a href=\"http://www.cell.com/cell/fulltext/S0092-8674(18)30154-5\">http://www.cell.com/cell/fulltext/S0092-8674(18)30154-5 </a><br>\n",
    "</li></ul>"
   ]
  },
  {
   "cell_type": "markdown",
   "metadata": {
    "papermill": {
     "duration": 0.013664,
     "end_time": "2020-09-22T11:55:58.968387",
     "exception": false,
     "start_time": "2020-09-22T11:55:58.954723",
     "status": "completed"
    },
    "tags": []
   },
   "source": [
    "<h2>Import Libraries</h2>\n",
    "<ul>\n",
    "    <li>os - for various system commands like changing directories, etc</li>\n",
    "    <li>glob - for searching for all files using pattern [ used for counting image files] </li>\n",
    "    <li>torch - Pytorch modules</li>\n",
    "    <li>OrderedDict</li>\n",
    "    <li>matplotlib.pyplot - for visualizations</li>\n",
    "    <li>torchvision -  models, datasets, transforms</li>\n",
    "</ul>    "
   ]
  },
  {
   "cell_type": "code",
   "execution_count": 1,
   "metadata": {
    "_cell_guid": "b1076dfc-b9ad-4769-8c92-a6c4dae69d19",
    "_uuid": "8f2839f25d086af736a60e9eeb907d3b93b6e0e5",
    "execution": {
     "iopub.execute_input": "2020-09-22T11:55:59.002671Z",
     "iopub.status.busy": "2020-09-22T11:55:59.002016Z",
     "iopub.status.idle": "2020-09-22T11:56:00.708099Z",
     "shell.execute_reply": "2020-09-22T11:56:00.707086Z"
    },
    "papermill": {
     "duration": 1.726062,
     "end_time": "2020-09-22T11:56:00.708232",
     "exception": false,
     "start_time": "2020-09-22T11:55:58.982170",
     "status": "completed"
    },
    "tags": []
   },
   "outputs": [],
   "source": [
    "# -------------------------------- Pnuemonia Detection ----------------------------\n",
    "# author @imasy36\n",
    "# necessary libraries\n",
    "import os\n",
    "from glob import glob\n",
    "import torch\n",
    "from collections import OrderedDict\n",
    "import matplotlib.pyplot as plt\n",
    "from torchvision import datasets, transforms, models\n",
    "%matplotlib inline"
   ]
  },
  {
   "cell_type": "markdown",
   "metadata": {
    "papermill": {
     "duration": 0.015064,
     "end_time": "2020-09-22T11:56:00.737752",
     "exception": false,
     "start_time": "2020-09-22T11:56:00.722688",
     "status": "completed"
    },
    "tags": []
   },
   "source": [
    "<h2> Exploring Data </h2>"
   ]
  },
  {
   "cell_type": "code",
   "execution_count": 2,
   "metadata": {
    "_cell_guid": "79c7e3d0-c299-4dcb-8224-4455121ee9b0",
    "_uuid": "d629ff2d2480ee46fbb7e2d37f6b5fab8052498a",
    "execution": {
     "iopub.execute_input": "2020-09-22T11:56:00.774653Z",
     "iopub.status.busy": "2020-09-22T11:56:00.774063Z",
     "iopub.status.idle": "2020-09-22T11:56:01.607748Z",
     "shell.execute_reply": "2020-09-22T11:56:01.608366Z"
    },
    "papermill": {
     "duration": 0.854916,
     "end_time": "2020-09-22T11:56:01.608544",
     "exception": false,
     "start_time": "2020-09-22T11:56:00.753628",
     "status": "completed"
    },
    "tags": []
   },
   "outputs": [
    {
     "name": "stdout",
     "output_type": "stream",
     "text": [
      "/kaggle/input/chest-xray-pneumonia/chest_xray/chest_xray\n",
      "Folders in directory - test  train  val\r\n",
      "Total image files :  5856\n"
     ]
    }
   ],
   "source": [
    "# changing working directory\n",
    "path = \"/kaggle/input/chest-xray-pneumonia/chest_xray/chest_xray/\"\n",
    "os.chdir(path)\n",
    "print(os.getcwd())\n",
    "\n",
    "print(\"Folders in directory\",end=\" - \")\n",
    "!ls\n",
    "\n",
    "# Total image files in directory\n",
    "n_files = len([x for x in glob(os.path.join('*','*','*.jpeg'))])\n",
    "print(\"Total image files : \",n_files)"
   ]
  },
  {
   "cell_type": "code",
   "execution_count": 3,
   "metadata": {
    "execution": {
     "iopub.execute_input": "2020-09-22T11:56:01.647694Z",
     "iopub.status.busy": "2020-09-22T11:56:01.646926Z",
     "iopub.status.idle": "2020-09-22T11:56:01.813639Z",
     "shell.execute_reply": "2020-09-22T11:56:01.813211Z"
    },
    "papermill": {
     "duration": 0.188833,
     "end_time": "2020-09-22T11:56:01.813741",
     "exception": false,
     "start_time": "2020-09-22T11:56:01.624908",
     "status": "completed"
    },
    "tags": []
   },
   "outputs": [
    {
     "name": "stdout",
     "output_type": "stream",
     "text": [
      "Total images: 5856, PNEUMONIA: 4273, NORMAL: 1583\n"
     ]
    },
    {
     "data": {
      "text/plain": [
       "Text(0, 0.5, 'COUNT')"
      ]
     },
     "execution_count": 3,
     "metadata": {},
     "output_type": "execute_result"
    },
    {
     "data": {
      "image/png": "[encoded data removed]",
      "text/plain": [
       "<Figure size 432x288 with 1 Axes>"
      ]
     },
     "metadata": {
      "needs_background": "light"
     },
     "output_type": "display_data"
    }
   ],
   "source": [
    "data = {}\n",
    "data['Normal'] = len([x for x in glob(os.path.join('*','NORMAL','*.jpeg'))])\n",
    "data['Pneumonia'] = len([x for x in glob(os.path.join('*','PNEUMONIA','*.jpeg'))])\n",
    "plt.bar( data.keys(),data.values(), color='green')\n",
    "print(\"Total images: {}, PNEUMONIA: {}, NORMAL: {}\".format(n_files, data['Pneumonia'], data['Normal']))\n",
    "plt.xlabel(\"CATEGORIES\")\n",
    "plt.ylabel(\"COUNT\")"
   ]
  },
  {
   "cell_type": "markdown",
   "metadata": {
    "papermill": {
     "duration": 0.016892,
     "end_time": "2020-09-22T11:56:01.848003",
     "exception": false,
     "start_time": "2020-09-22T11:56:01.831111",
     "status": "completed"
    },
    "tags": []
   },
   "source": [
    "<h2>Image pre processing and data iterators</h2>\n",
    "<h3>Image Pre-Processing and Augmentation</h3>\n",
    "<img src=\"https://github.com/imasy36/Machine-Learning-with-python/blob/master/Pneumonia_Detection_densenet/images/image_pre.png?raw=true\" />"
   ]
  },
  {
   "cell_type": "code",
   "execution_count": 4,
   "metadata": {
    "execution": {
     "iopub.execute_input": "2020-09-22T11:56:01.893154Z",
     "iopub.status.busy": "2020-09-22T11:56:01.892631Z",
     "iopub.status.idle": "2020-09-22T11:56:02.524208Z",
     "shell.execute_reply": "2020-09-22T11:56:02.523200Z"
    },
    "papermill": {
     "duration": 0.65921,
     "end_time": "2020-09-22T11:56:02.524322",
     "exception": false,
     "start_time": "2020-09-22T11:56:01.865112",
     "status": "completed"
    },
    "tags": []
   },
   "outputs": [],
   "source": [
    "# transformations on images \n",
    "trans_train = transforms.Compose([\n",
    "    transforms.Resize((256, 256)),\n",
    "    transforms.RandomRotation(degrees=10),\n",
    "    transforms.ColorJitter(), \n",
    "    transforms.ToTensor(),\n",
    "    transforms.Normalize(mean=[0.485, 0.456, 0.406],std=[0.229, 0.224, 0.225])])\n",
    "\n",
    "trans = transforms.Compose([\n",
    "    transforms.Resize((256, 256)),\n",
    "    transforms.ToTensor(),\n",
    "    transforms.Normalize(mean=[0.485, 0.456, 0.406],std=[0.229, 0.224, 0.225])])\n",
    "\n",
    "# Creating datasets using ImageFolder module\n",
    "test_data = datasets.ImageFolder(os.path.join(path,\"test\"), transform = trans)\n",
    "train_data = datasets.ImageFolder(os.path.join(path,\"train\"), transform = trans_train)\n",
    "val_data = datasets.ImageFolder(os.path.join(path,\"val\"), transform = trans)\n",
    "\n",
    "#creating Data Loaders\n",
    "test_loader = torch.utils.data.DataLoader(test_data, batch_size=64, shuffle=True)\n",
    "train_loader = torch.utils.data.DataLoader(train_data, batch_size=64, shuffle=True)\n",
    "val_loader = torch.utils.data.DataLoader(val_data, batch_size=64, shuffle=True)"
   ]
  },
  {
   "cell_type": "code",
   "execution_count": 5,
   "metadata": {
    "execution": {
     "iopub.execute_input": "2020-09-22T11:56:02.564503Z",
     "iopub.status.busy": "2020-09-22T11:56:02.563898Z",
     "iopub.status.idle": "2020-09-22T11:56:04.327040Z",
     "shell.execute_reply": "2020-09-22T11:56:04.327594Z"
    },
    "papermill": {
     "duration": 1.786543,
     "end_time": "2020-09-22T11:56:04.327737",
     "exception": false,
     "start_time": "2020-09-22T11:56:02.541194",
     "status": "completed"
    },
    "tags": []
   },
   "outputs": [
    {
     "name": "stdout",
     "output_type": "stream",
     "text": [
      "Images shape :torch.Size([64, 3, 256, 256]) \n",
      "Label for 1st image :  tensor(0)\n",
      "{'NORMAL': 0, 'PNEUMONIA': 1}\n"
     ]
    },
    {
     "data": {
      "image/png": "[encoded data removed]",
      "text/plain": [
       "<Figure size 432x288 with 1 Axes>"
      ]
     },
     "metadata": {
      "needs_background": "light"
     },
     "output_type": "display_data"
    }
   ],
   "source": [
    "#peek in data\n",
    "img, label = next(iter(train_loader))\n",
    "print(\"Images shape :{} \".format(img.size()))\n",
    "print(\"Label for 1st image : \",label[1])\n",
    "plt.imshow(img[1].numpy().transpose())\n",
    "#labels\n",
    "print(train_data.class_to_idx)"
   ]
  },
  {
   "cell_type": "markdown",
   "metadata": {
    "papermill": {
     "duration": 0.019284,
     "end_time": "2020-09-22T11:56:04.368050",
     "exception": false,
     "start_time": "2020-09-22T11:56:04.348766",
     "status": "completed"
    },
    "tags": []
   },
   "source": [
    "<h2>Model Architecture </h2>\n",
    "In this project, we will fine-tune an existing CNN architecture to classify x-rays images for the\n",
    "presence of pneumonia. There is no required architecture required for this project, but a\n",
    "reasonable choice would be using the <strong>DENSENET121</strong> architecture with weights trained on the\n",
    "ImageNet dataset. Fine-tuning can be performed by freezing our chosen pre-built network and\n",
    "adding several new layers to the end to train.\n",
    "\n",
    "<img src=\"https://github.com/imasy36/Machine-Learning-with-python/blob/master/Pneumonia_Detection_densenet/images/Densenet121.png?raw=true\" />\n",
    "\n",
    "<center><i>One level deeper look at DenseNet-121. Dense Block and Transition Block.</i></center>"
   ]
  },
  {
   "cell_type": "code",
   "execution_count": 6,
   "metadata": {
    "execution": {
     "iopub.execute_input": "2020-09-22T11:56:04.418094Z",
     "iopub.status.busy": "2020-09-22T11:56:04.417369Z",
     "iopub.status.idle": "2020-09-22T11:56:07.455001Z",
     "shell.execute_reply": "2020-09-22T11:56:07.455796Z"
    },
    "papermill": {
     "duration": 3.065396,
     "end_time": "2020-09-22T11:56:07.455945",
     "exception": false,
     "start_time": "2020-09-22T11:56:04.390549",
     "status": "completed"
    },
    "tags": []
   },
   "outputs": [
    {
     "name": "stderr",
     "output_type": "stream",
     "text": [
      "Downloading: \"https://download.pytorch.org/models/densenet121-a639ec97.pth\" to /root/.cache/torch/checkpoints/densenet121-a639ec97.pth\n"
     ]
    },
    {
     "data": {
      "application/vnd.jupyter.widget-view+json": {
       "model_id": "1c0e1dec67c147c0a846d1bc16c88498",
       "version_major": 2,
       "version_minor": 0
      },
      "text/plain": [
       "HBox(children=(FloatProgress(value=0.0, max=32342954.0), HTML(value='')))"
      ]
     },
     "metadata": {},
     "output_type": "display_data"
    },
    {
     "name": "stdout",
     "output_type": "stream",
     "text": [
      "\n",
      "1024\n"
     ]
    }
   ],
   "source": [
    "# using densenet121 pretrained model [just trying can change model later ]\n",
    "model = models.densenet121(pretrained=True)\n",
    "# set no grad as we are not going to modify weights of pretrained model except for last layer\n",
    "for param in model.parameters():\n",
    "    param.requires_grad = False\n",
    "    \n",
    "in_feature = model.classifier.in_features # in_feature for input to custom layers\n",
    "print(in_feature)"
   ]
  },
  {
   "cell_type": "markdown",
   "metadata": {
    "papermill": {
     "duration": 0.024667,
     "end_time": "2020-09-22T11:56:07.501355",
     "exception": false,
     "start_time": "2020-09-22T11:56:07.476688",
     "status": "completed"
    },
    "tags": []
   },
   "source": [
    "<h3>Custom Classifier</h3>\n",
    "<ul>\n",
    "    <li>Layer1 - input:1024, out:256</li>\n",
    "    <li>ReLU as activation function</li>\n",
    "    <li>Dropout with probability of 0.2</li>\n",
    "    <li>Layer2 - input:256, out:32</li>\n",
    "    <li>ReLU as activation function</li>\n",
    "    <li>Output layer - Input:32 , out:2</li>\n",
    "    <li>LogSoftmax</li>\n",
    "</ul>"
   ]
  },
  {
   "cell_type": "code",
   "execution_count": 7,
   "metadata": {
    "execution": {
     "iopub.execute_input": "2020-09-22T11:56:07.548872Z",
     "iopub.status.busy": "2020-09-22T11:56:07.548167Z",
     "iopub.status.idle": "2020-09-22T11:56:07.556745Z",
     "shell.execute_reply": "2020-09-22T11:56:07.556228Z"
    },
    "papermill": {
     "duration": 0.035765,
     "end_time": "2020-09-22T11:56:07.556844",
     "exception": false,
     "start_time": "2020-09-22T11:56:07.521079",
     "status": "completed"
    },
    "tags": []
   },
   "outputs": [
    {
     "data": {
      "text/plain": [
       "Sequential(\n",
       "  (layer1): Linear(in_features=1024, out_features=256, bias=True)\n",
       "  (ReLU1): ReLU()\n",
       "  (dp1): Dropout(p=0.2, inplace=False)\n",
       "  (layer2): Linear(in_features=256, out_features=32, bias=True)\n",
       "  (ReLU2): ReLU()\n",
       "  (Output): Linear(in_features=32, out_features=2, bias=True)\n",
       "  (LogSoftmax): LogSoftmax()\n",
       ")"
      ]
     },
     "execution_count": 7,
     "metadata": {},
     "output_type": "execute_result"
    }
   ],
   "source": [
    "# modifying classifier layer\n",
    "model.classifier = torch.nn.Sequential(OrderedDict([\n",
    "    ('layer1',torch.nn.Linear(in_feature,256)),\n",
    "    ('ReLU1', torch.nn.ReLU()),\n",
    "    ('dp1', torch.nn.Dropout(0.2)),\n",
    "    ('layer2', torch.nn.Linear(256,32)),\n",
    "    ('ReLU2', torch.nn.ReLU()),\n",
    "    ('Output', torch.nn.Linear(32,2)),\n",
    "    ('LogSoftmax', torch.nn.LogSoftmax(dim=1))    \n",
    "]))\n",
    "model.classifier"
   ]
  },
  {
   "cell_type": "code",
   "execution_count": 8,
   "metadata": {
    "execution": {
     "iopub.execute_input": "2020-09-22T11:56:07.609310Z",
     "iopub.status.busy": "2020-09-22T11:56:07.608423Z",
     "iopub.status.idle": "2020-09-22T11:56:07.611990Z",
     "shell.execute_reply": "2020-09-22T11:56:07.612566Z"
    },
    "papermill": {
     "duration": 0.03477,
     "end_time": "2020-09-22T11:56:07.612675",
     "exception": false,
     "start_time": "2020-09-22T11:56:07.577905",
     "status": "completed"
    },
    "tags": []
   },
   "outputs": [
    {
     "name": "stdout",
     "output_type": "stream",
     "text": [
      "Total parameters : 7224546 | Trainable Parameters : 270690 \n"
     ]
    }
   ],
   "source": [
    "total_parameters = sum([p.numel() for p in model.parameters()])\n",
    "trainable_parameters = sum([p.numel() for p in model.parameters() if p.requires_grad==True])\n",
    "print(\"Total parameters : {} | Trainable Parameters : {} \".format(total_parameters,trainable_parameters))"
   ]
  },
  {
   "cell_type": "code",
   "execution_count": 9,
   "metadata": {
    "execution": {
     "iopub.execute_input": "2020-09-22T11:56:07.666067Z",
     "iopub.status.busy": "2020-09-22T11:56:07.665456Z",
     "iopub.status.idle": "2020-09-22T11:56:07.668530Z",
     "shell.execute_reply": "2020-09-22T11:56:07.668965Z"
    },
    "papermill": {
     "duration": 0.034886,
     "end_time": "2020-09-22T11:56:07.669073",
     "exception": false,
     "start_time": "2020-09-22T11:56:07.634187",
     "status": "completed"
    },
    "tags": []
   },
   "outputs": [],
   "source": [
    "#Validation Function\n",
    "def validation(model, val_loader, gpu):\n",
    "    steps = 0\n",
    "    with torch.no_grad():\n",
    "        model.eval()\n",
    "        val_loss = 0\n",
    "        val_acc = 0\n",
    "        steps += 1\n",
    "        for images, labels in val_loader:\n",
    "            if gpu:\n",
    "                images, labels = images.cuda(), labels.cuda()\n",
    "            out = model(images)\n",
    "            loss = loss_fun(out, labels)\n",
    "            val_loss+=loss.item()*images.size(0)\n",
    "            output = torch.nn.functional.softmax(out,dim=1)\n",
    "            val_acc+=(output.max(1)[1] == labels.data).type(torch.FloatTensor).mean()\n",
    "    print(\"Validation Loss : {} | Validation accuracy : {} \".format(val_loss/steps, val_acc*100/steps))\n",
    "    return val_loss/steps, val_acc*100/steps\n",
    "    "
   ]
  },
  {
   "cell_type": "markdown",
   "metadata": {
    "papermill": {
     "duration": 0.021125,
     "end_time": "2020-09-22T11:56:07.711173",
     "exception": false,
     "start_time": "2020-09-22T11:56:07.690048",
     "status": "completed"
    },
    "tags": []
   },
   "source": [
    "<h3>Detecting GPU</h3>"
   ]
  },
  {
   "cell_type": "code",
   "execution_count": 10,
   "metadata": {
    "execution": {
     "iopub.execute_input": "2020-09-22T11:56:08.149904Z",
     "iopub.status.busy": "2020-09-22T11:56:08.148738Z",
     "iopub.status.idle": "2020-09-22T11:56:08.156122Z",
     "shell.execute_reply": "2020-09-22T11:56:08.157355Z"
    },
    "papermill": {
     "duration": 0.423847,
     "end_time": "2020-09-22T11:56:08.157692",
     "exception": false,
     "start_time": "2020-09-22T11:56:07.733845",
     "status": "completed"
    },
    "tags": []
   },
   "outputs": [
    {
     "name": "stdout",
     "output_type": "stream",
     "text": [
      "GPU available : True \n",
      "No of devices : 1 \n",
      "Device -  Tesla P100-PCIE-16GB\n"
     ]
    }
   ],
   "source": [
    "gpu = torch.cuda.is_available()\n",
    "print(\"GPU available : {} \".format(gpu))\n",
    "if gpu:\n",
    "    dev = torch.cuda.device_count()\n",
    "    if dev>1:\n",
    "        multi_dev = True\n",
    "    else:\n",
    "        multi_dev = False\n",
    "    print(\"No of devices : {} \".format(dev))\n",
    "    for _ in range(dev):\n",
    "        print(\"Device - \",torch.cuda.get_device_name(_))"
   ]
  },
  {
   "cell_type": "markdown",
   "metadata": {
    "papermill": {
     "duration": 0.026017,
     "end_time": "2020-09-22T11:56:08.210512",
     "exception": false,
     "start_time": "2020-09-22T11:56:08.184495",
     "status": "completed"
    },
    "tags": []
   },
   "source": [
    "<h3>Training Loss and Optimizer : </h3>\n",
    "The loss is the negative log likelihood and the optimizer is the Adam optimizer with learning rate = 0.1."
   ]
  },
  {
   "cell_type": "code",
   "execution_count": 11,
   "metadata": {
    "execution": {
     "iopub.execute_input": "2020-09-22T11:56:08.272450Z",
     "iopub.status.busy": "2020-09-22T11:56:08.271371Z",
     "iopub.status.idle": "2020-09-22T11:56:08.274394Z",
     "shell.execute_reply": "2020-09-22T11:56:08.273870Z"
    },
    "papermill": {
     "duration": 0.037409,
     "end_time": "2020-09-22T11:56:08.274513",
     "exception": false,
     "start_time": "2020-09-22T11:56:08.237104",
     "status": "completed"
    },
    "tags": []
   },
   "outputs": [],
   "source": [
    "epochs = 10\n",
    "loss_fun = torch.nn.NLLLoss()\n",
    "optimizer = torch.optim.Adam(model.parameters(), lr=0.01)"
   ]
  },
  {
   "cell_type": "code",
   "execution_count": 12,
   "metadata": {
    "execution": {
     "iopub.execute_input": "2020-09-22T11:56:08.335005Z",
     "iopub.status.busy": "2020-09-22T11:56:08.334360Z",
     "iopub.status.idle": "2020-09-22T11:56:13.277953Z",
     "shell.execute_reply": "2020-09-22T11:56:13.277505Z"
    },
    "papermill": {
     "duration": 4.978384,
     "end_time": "2020-09-22T11:56:13.278052",
     "exception": false,
     "start_time": "2020-09-22T11:56:08.299668",
     "status": "completed"
    },
    "tags": []
   },
   "outputs": [
    {
     "name": "stdout",
     "output_type": "stream",
     "text": [
      "Model is now on GPU\n"
     ]
    }
   ],
   "source": [
    "# transfer to GPU if available\n",
    "if gpu:\n",
    "    model = model.to(torch.device('cuda'))\n",
    "    print(\"Model is now on GPU\")\n",
    "else:\n",
    "    print(\"Model is on CPU\")"
   ]
  },
  {
   "cell_type": "markdown",
   "metadata": {
    "papermill": {
     "duration": 0.021465,
     "end_time": "2020-09-22T11:56:13.321284",
     "exception": false,
     "start_time": "2020-09-22T11:56:13.299819",
     "status": "completed"
    },
    "tags": []
   },
   "source": [
    "<h2>Training </h2>\n",
    "For training, we iterate through the train DataLoader, each time passing one batch through the model. One complete pass through the training data is known as an epoch. After each batch, we calculate the loss and then calculate the gradients of the loss with respect to the model parameters with loss.backward(). This uses autodifferentiation and backpropagation to calculate the gradients.\n",
    "\n",
    "After calculating the gradients, we call optimizer.step() to update the model parameters with the gradients. This is done on every training batch so we are implementing stochastic gradient descent (or rather a version of it with momentum known as Adam). After the training loop has completed, we start the validation loop."
   ]
  },
  {
   "cell_type": "code",
   "execution_count": 13,
   "metadata": {
    "execution": {
     "iopub.execute_input": "2020-09-22T11:56:13.374043Z",
     "iopub.status.busy": "2020-09-22T11:56:13.373238Z",
     "iopub.status.idle": "2020-09-22T12:13:01.705692Z",
     "shell.execute_reply": "2020-09-22T12:13:01.704817Z"
    },
    "papermill": {
     "duration": 1008.362756,
     "end_time": "2020-09-22T12:13:01.705834",
     "exception": false,
     "start_time": "2020-09-22T11:56:13.343078",
     "status": "completed"
    },
    "tags": []
   },
   "outputs": [
    {
     "name": "stdout",
     "output_type": "stream",
     "text": [
      "Epoch 1 / 10 completed \n",
      "Training Accuracy : 85.7469482421875\n",
      "Training Loss : 21.853471316942354\n",
      "Validation Loss : 8.942825317382812 | Validation accuracy : 75.0 \n",
      "---------------------------------------------------------------------------------------\n",
      "Epoch 2 / 10 completed \n",
      "Training Accuracy : 94.53125\n",
      "Training Loss : 8.890147124848715\n",
      "Validation Loss : 5.50953483581543 | Validation accuracy : 87.5 \n",
      "---------------------------------------------------------------------------------------\n",
      "Epoch 3 / 10 completed \n",
      "Training Accuracy : 95.73170471191406\n",
      "Training Loss : 7.184436393947136\n",
      "Validation Loss : 4.863882541656494 | Validation accuracy : 87.5 \n",
      "---------------------------------------------------------------------------------------\n",
      "Epoch 4 / 10 completed \n",
      "Training Accuracy : 95.1219482421875\n",
      "Training Loss : 8.25053978257063\n",
      "Validation Loss : 2.812030076980591 | Validation accuracy : 93.75 \n",
      "---------------------------------------------------------------------------------------\n",
      "Epoch 5 / 10 completed \n",
      "Training Accuracy : 95.78887176513672\n",
      "Training Loss : 6.866747247009743\n",
      "Validation Loss : 6.035418510437012 | Validation accuracy : 87.5 \n",
      "---------------------------------------------------------------------------------------\n",
      "Epoch 6 / 10 completed \n",
      "Training Accuracy : 95.69359588623047\n",
      "Training Loss : 7.197004132881397\n",
      "Validation Loss : 5.93187141418457 | Validation accuracy : 87.5 \n",
      "---------------------------------------------------------------------------------------\n",
      "Epoch 7 / 10 completed \n",
      "Training Accuracy : 96.37957000732422\n",
      "Training Loss : 6.237788856756397\n",
      "Validation Loss : 3.856688976287842 | Validation accuracy : 93.75 \n",
      "---------------------------------------------------------------------------------------\n",
      "Epoch 8 / 10 completed \n",
      "Training Accuracy : 96.51295471191406\n",
      "Training Loss : 5.895359050936815\n",
      "Validation Loss : 7.124752521514893 | Validation accuracy : 87.5 \n",
      "---------------------------------------------------------------------------------------\n",
      "Epoch 9 / 10 completed \n",
      "Training Accuracy : 96.15091705322266\n",
      "Training Loss : 6.452746857957142\n",
      "Validation Loss : 5.209678649902344 | Validation accuracy : 81.25 \n",
      "---------------------------------------------------------------------------------------\n",
      "Epoch 10 / 10 completed \n",
      "Training Accuracy : 96.58917999267578\n",
      "Training Loss : 6.138301262041417\n",
      "Validation Loss : 4.659564018249512 | Validation accuracy : 93.75 \n",
      "---------------------------------------------------------------------------------------\n",
      "Best Epoch: 10 with\n",
      " training loss: 6.138301262041417 | training accuracy: 96.58917999267578 |\n",
      " validation loss: 4.659564018249512 | validation accuracy: 93.75\n"
     ]
    },
    {
     "data": {
      "text/plain": [
       "<All keys matched successfully>"
      ]
     },
     "execution_count": 13,
     "metadata": {},
     "output_type": "execute_result"
    }
   ],
   "source": [
    "# Training Model\n",
    "train_loss = 0\n",
    "train_acc = 0\n",
    "loss_list=[]\n",
    "best={\n",
    "    'epoch':0,\n",
    "    'train_loss':0,\n",
    "    'train_acc':0,\n",
    "    'val_acc':0,\n",
    "    'val_loss':0,\n",
    "    'state_dict':None\n",
    "}\n",
    "model.train()\n",
    "for e in range(epochs):\n",
    "    steps=0\n",
    "    for images, labels in train_loader:\n",
    "        steps+=1\n",
    "        if gpu:\n",
    "            images, labels = images.cuda(), labels.cuda()\n",
    "        output = model(images)\n",
    "        optimizer.zero_grad()\n",
    "        loss = loss_fun(output, labels)\n",
    "        loss.backward()\n",
    "        optimizer.step()\n",
    "        train_acc+=(torch.nn.functional.log_softmax(output,dim=1).max(1)[1]==labels.data).type(torch.FloatTensor).mean()  \n",
    "        train_loss+=loss.item()*images.size(0)\n",
    "    print(\"Epoch {} / {} completed \".format(e+1,epochs))\n",
    "    print(\"Training Accuracy : {}\".format(train_acc*100/steps))\n",
    "    print(\"Training Loss : {}\".format(train_loss/steps))\n",
    "    val_loss, val_acc = validation(model, val_loader, gpu)\n",
    "    loss_list.append(train_loss)\n",
    "    print(\"---------------------------------------------------------------------------------------\")\n",
    "    if (train_acc*100/steps)>=best['train_acc']:\n",
    "        best['epoch'] = e+1\n",
    "        best['train_loss'] = train_loss/steps\n",
    "        best['train_acc'] = train_acc*100/steps\n",
    "        best['val_loss'] = val_loss\n",
    "        best['val_acc'] = val_acc\n",
    "        best['state_dict'] = model.state_dict()\n",
    "    train_loss = 0\n",
    "    train_acc = 0\n",
    "\n",
    "print(\"Best Epoch: {} with\\n training loss: {} | training accuracy: {} |\\n validation loss: {} | validation accuracy: {}\".\n",
    "format(best['epoch'], best['train_loss'], best['train_acc'], best['val_loss'], best['val_acc']))\n",
    "model.load_state_dict(best['state_dict'])"
   ]
  },
  {
   "cell_type": "code",
   "execution_count": 14,
   "metadata": {
    "execution": {
     "iopub.execute_input": "2020-09-22T12:13:01.766491Z",
     "iopub.status.busy": "2020-09-22T12:13:01.765666Z",
     "iopub.status.idle": "2020-09-22T12:13:01.889259Z",
     "shell.execute_reply": "2020-09-22T12:13:01.888853Z"
    },
    "papermill": {
     "duration": 0.155634,
     "end_time": "2020-09-22T12:13:01.889377",
     "exception": false,
     "start_time": "2020-09-22T12:13:01.733743",
     "status": "completed"
    },
    "tags": []
   },
   "outputs": [
    {
     "data": {
      "image/png": "[encoded data removed]",
      "text/plain": [
       "<Figure size 432x288 with 1 Axes>"
      ]
     },
     "metadata": {
      "needs_background": "light"
     },
     "output_type": "display_data"
    }
   ],
   "source": [
    "# Training Loss\n",
    "plt.plot(range(1,len(loss_list)+1), loss_list )\n",
    "plt.xlabel(\"Epochs\")\n",
    "plt.ylabel(\"Training Loss\")\n",
    "plt.title(\"Training Loss variations (NLLLoss)\")\n",
    "plt.show()"
   ]
  },
  {
   "cell_type": "code",
   "execution_count": 15,
   "metadata": {
    "execution": {
     "iopub.execute_input": "2020-09-22T12:13:01.955055Z",
     "iopub.status.busy": "2020-09-22T12:13:01.954540Z",
     "iopub.status.idle": "2020-09-22T12:13:03.031134Z",
     "shell.execute_reply": "2020-09-22T12:13:03.031637Z"
    },
    "papermill": {
     "duration": 1.112606,
     "end_time": "2020-09-22T12:13:03.031776",
     "exception": false,
     "start_time": "2020-09-22T12:13:01.919170",
     "status": "completed"
    },
    "tags": []
   },
   "outputs": [
    {
     "name": "stdout",
     "output_type": "stream",
     "text": [
      "Label for first 5 images are :  tensor([1, 1, 1, 0, 1], device='cuda:0')\n",
      "Prediction for first 5 images :  tensor([1, 1, 1, 0, 1], device='cuda:0')\n"
     ]
    }
   ],
   "source": [
    "# Hand testing\n",
    "images, label = next(iter(train_loader))\n",
    "if gpu:\n",
    "    images, label = images.cuda(), label.cuda()\n",
    "output = torch.nn.functional.log_softmax(model(images),dim=1).max(1)[1]\n",
    "print(\"Label for first 5 images are : \",label[:5])\n",
    "print(\"Prediction for first 5 images : \",output[:5])"
   ]
  },
  {
   "cell_type": "code",
   "execution_count": 16,
   "metadata": {
    "execution": {
     "iopub.execute_input": "2020-09-22T12:13:03.098989Z",
     "iopub.status.busy": "2020-09-22T12:13:03.098468Z",
     "iopub.status.idle": "2020-09-22T12:13:16.224519Z",
     "shell.execute_reply": "2020-09-22T12:13:16.225090Z"
    },
    "papermill": {
     "duration": 13.164372,
     "end_time": "2020-09-22T12:13:16.225258",
     "exception": false,
     "start_time": "2020-09-22T12:13:03.060886",
     "status": "completed"
    },
    "tags": []
   },
   "outputs": [
    {
     "name": "stdout",
     "output_type": "stream",
     "text": [
      "Testing Loss : 0.34159108996391296 || Testing accuracy : 85.41667175292969\n"
     ]
    }
   ],
   "source": [
    "#Testing\n",
    "model.eval()\n",
    "steps = 0 \n",
    "test_loss = 0\n",
    "test_acc = 0\n",
    "for images, labels in test_loader:\n",
    "    steps+=1\n",
    "    if gpu:\n",
    "        images, labels = images.cuda(), labels.cuda()\n",
    "    out = model(images)\n",
    "    test_loss+=loss_fun(out,labels) \n",
    "    output = torch.nn.functional.log_softmax(out, dim=1)\n",
    "    test_acc+= (labels.data == output.max(1)[1]).type(torch.FloatTensor).mean()\n",
    "\n",
    "print(\"Testing Loss : {} || Testing accuracy : {}\".format(test_loss/steps, test_acc*100/steps))\n"
   ]
  },
  {
   "cell_type": "markdown",
   "metadata": {
    "papermill": {
     "duration": 0.028713,
     "end_time": "2020-09-22T12:13:16.284437",
     "exception": false,
     "start_time": "2020-09-22T12:13:16.255724",
     "status": "completed"
    },
    "tags": []
   },
   "source": [
    "<h2>Saving the model</h2>\n",
    "We save the current state_dict of model and optimizer in a file that can be later used to load the model. "
   ]
  },
  {
   "cell_type": "code",
   "execution_count": 17,
   "metadata": {
    "execution": {
     "iopub.execute_input": "2020-09-22T12:13:16.351013Z",
     "iopub.status.busy": "2020-09-22T12:13:16.350418Z",
     "iopub.status.idle": "2020-09-22T12:13:16.353548Z",
     "shell.execute_reply": "2020-09-22T12:13:16.353124Z"
    },
    "papermill": {
     "duration": 0.040451,
     "end_time": "2020-09-22T12:13:16.353642",
     "exception": false,
     "start_time": "2020-09-22T12:13:16.313191",
     "status": "completed"
    },
    "tags": []
   },
   "outputs": [],
   "source": [
    "# saving the model\n",
    "def save_model(file_name):\n",
    "    save = {\n",
    "        'Model':'Densenet121',\n",
    "        'Loss_Function':'NLLLoss',\n",
    "        'Epochs':epochs,\n",
    "        'Learning_rate':'0.01',\n",
    "        'Data':'https://www.kaggle.com/paultimothymooney/chest-xray-pneumonia'\n",
    "    }\n",
    "    save['State_dict'] = model.state_dict()\n",
    "    save['Optimizer'] = optimizer ## save Optimizer if you want to resume training \n",
    "    save['Optimizer_state_dict'] = optimizer.state_dict()\n",
    "    save['Classifier'] = model.classifier\n",
    "    torch.save(save,file_name)\n",
    "    \n",
    "#Loading Model\n",
    "def load_model(file_name):\n",
    "    ld = torch.load(file_name)\n",
    "    model = models.densenet121(pretrained=True)\n",
    "    for param in model.parameters():\n",
    "        param.requires_grad = False\n",
    "    model.classifier = ld['Classifier']\n",
    "    model.load_state_dict(ld['State_dict'])\n",
    "    optimizer = ld['Optimizer']\n",
    "    optimizer.load_state_dict(ld['Optimizer_state_dict'])\n",
    "    return model, optimizer"
   ]
  },
  {
   "cell_type": "code",
   "execution_count": 18,
   "metadata": {
    "execution": {
     "iopub.execute_input": "2020-09-22T12:13:16.415970Z",
     "iopub.status.busy": "2020-09-22T12:13:16.415183Z",
     "iopub.status.idle": "2020-09-22T12:13:16.523268Z",
     "shell.execute_reply": "2020-09-22T12:13:16.522772Z"
    },
    "papermill": {
     "duration": 0.140464,
     "end_time": "2020-09-22T12:13:16.523374",
     "exception": false,
     "start_time": "2020-09-22T12:13:16.382910",
     "status": "completed"
    },
    "tags": []
   },
   "outputs": [],
   "source": [
    "os.chdir('/kaggle/working')\n",
    "f_name = 'Pneumoia_Densenet121.pth'\n",
    "save_model(f_name)"
   ]
  }
 ],
 "metadata": {
  "kernelspec": {
   "display_name": "Python 3",
   "language": "python",
   "name": "python3"
  },
  "language_info": {
   "codemirror_mode": {
    "name": "ipython",
    "version": 3
   },
   "file_extension": ".py",
   "mimetype": "text/x-python",
   "name": "python",
   "nbconvert_exporter": "python",
   "pygments_lexer": "ipython3",
   "version": "3.7.6"
  },
  "papermill": {
   "duration": 1043.116163,
   "end_time": "2020-09-22T12:13:18.015664",
   "environment_variables": {},
   "exception": null,
   "input_path": "__notebook__.ipynb",
   "output_path": "__notebook__.ipynb",
   "parameters": {},
   "start_time": "2020-09-22T11:55:54.899501",
   "version": "2.1.0"
  },
  "widgets": {
   "application/vnd.jupyter.widget-state+json": {
    "state": {
     "086e7fa6045e4ae785d05f424d06fcbd": {
      "model_module": "@jupyter-widgets/base",
      "model_module_version": "1.2.0",
      "model_name": "LayoutModel",
      "state": {
       "_model_module": "@jupyter-widgets/base",
       "_model_module_version": "1.2.0",
       "_model_name": "LayoutModel",
       "_view_count": null,
       "_view_module": "@jupyter-widgets/base",
       "_view_module_version": "1.2.0",
       "_view_name": "LayoutView",
       "align_content": null,
       "align_items": null,
       "align_self": null,
       "border": null,
       "bottom": null,
       "display": null,
       "flex": null,
       "flex_flow": null,
       "grid_area": null,
       "grid_auto_columns": null,
       "grid_auto_flow": null,
       "grid_auto_rows": null,
       "grid_column": null,
       "grid_gap": null,
       "grid_row": null,
       "grid_template_areas": null,
       "grid_template_columns": null,
       "grid_template_rows": null,
       "height": null,
       "justify_content": null,
       "justify_items": null,
       "left": null,
       "margin": null,
       "max_height": null,
       "max_width": null,
       "min_height": null,
       "min_width": null,
       "object_fit": null,
       "object_position": null,
       "order": null,
       "overflow": null,
       "overflow_x": null,
       "overflow_y": null,
       "padding": null,
       "right": null,
       "top": null,
       "visibility": null,
       "width": null
      }
     },
     "0fd4db769e114676bae4ffad3d1d9831": {
      "model_module": "@jupyter-widgets/controls",
      "model_module_version": "1.5.0",
      "model_name": "DescriptionStyleModel",
      "state": {
       "_model_module": "@jupyter-widgets/controls",
       "_model_module_version": "1.5.0",
       "_model_name": "DescriptionStyleModel",
       "_view_count": null,
       "_view_module": "@jupyter-widgets/base",
       "_view_module_version": "1.2.0",
       "_view_name": "StyleView",
       "description_width": ""
      }
     },
     "1c0e1dec67c147c0a846d1bc16c88498": {
      "model_module": "@jupyter-widgets/controls",
      "model_module_version": "1.5.0",
      "model_name": "HBoxModel",
      "state": {
       "_dom_classes": [],
       "_model_module": "@jupyter-widgets/controls",
       "_model_module_version": "1.5.0",
       "_model_name": "HBoxModel",
       "_view_count": null,
       "_view_module": "@jupyter-widgets/controls",
       "_view_module_version": "1.5.0",
       "_view_name": "HBoxView",
       "box_style": "",
       "children": [
        "IPY_MODEL_d7623c7065e243be8af5f07fe39df12b",
        "IPY_MODEL_46e1630da108496089c9966d303f98f0"
       ],
       "layout": "IPY_MODEL_d91a799501f4498cb61a46d1c5e9209c"
      }
     },
     "46e1630da108496089c9966d303f98f0": {
      "model_module": "@jupyter-widgets/controls",
      "model_module_version": "1.5.0",
      "model_name": "HTMLModel",
      "state": {
       "_dom_classes": [],
       "_model_module": "@jupyter-widgets/controls",
       "_model_module_version": "1.5.0",
       "_model_name": "HTMLModel",
       "_view_count": null,
       "_view_module": "@jupyter-widgets/controls",
       "_view_module_version": "1.5.0",
       "_view_name": "HTMLView",
       "description": "",
       "description_tooltip": null,
       "layout": "IPY_MODEL_577563a843814009b348e0733f0254f8",
       "placeholder": "​",
       "style": "IPY_MODEL_0fd4db769e114676bae4ffad3d1d9831",
       "value": " 30.8M/30.8M [00:02&lt;00:00, 14.5MB/s]"
      }
     },
     "577563a843814009b348e0733f0254f8": {
      "model_module": "@jupyter-widgets/base",
      "model_module_version": "1.2.0",
      "model_name": "LayoutModel",
      "state": {
       "_model_module": "@jupyter-widgets/base",
       "_model_module_version": "1.2.0",
       "_model_name": "LayoutModel",
       "_view_count": null,
       "_view_module": "@jupyter-widgets/base",
       "_view_module_version": "1.2.0",
       "_view_name": "LayoutView",
       "align_content": null,
       "align_items": null,
       "align_self": null,
       "border": null,
       "bottom": null,
       "display": null,
       "flex": null,
       "flex_flow": null,
       "grid_area": null,
       "grid_auto_columns": null,
       "grid_auto_flow": null,
       "grid_auto_rows": null,
       "grid_column": null,
       "grid_gap": null,
       "grid_row": null,
       "grid_template_areas": null,
       "grid_template_columns": null,
       "grid_template_rows": null,
       "height": null,
       "justify_content": null,
       "justify_items": null,
       "left": null,
       "margin": null,
       "max_height": null,
       "max_width": null,
       "min_height": null,
       "min_width": null,
       "object_fit": null,
       "object_position": null,
       "order": null,
       "overflow": null,
       "overflow_x": null,
       "overflow_y": null,
       "padding": null,
       "right": null,
       "top": null,
       "visibility": null,
       "width": null
      }
     },
     "9de9a6d745d449d9a90f2ae4e2ba2f62": {
      "model_module": "@jupyter-widgets/controls",
      "model_module_version": "1.5.0",
      "model_name": "ProgressStyleModel",
      "state": {
       "_model_module": "@jupyter-widgets/controls",
       "_model_module_version": "1.5.0",
       "_model_name": "ProgressStyleModel",
       "_view_count": null,
       "_view_module": "@jupyter-widgets/base",
       "_view_module_version": "1.2.0",
       "_view_name": "StyleView",
       "bar_color": null,
       "description_width": "initial"
      }
     },
     "d7623c7065e243be8af5f07fe39df12b": {
      "model_module": "@jupyter-widgets/controls",
      "model_module_version": "1.5.0",
      "model_name": "FloatProgressModel",
      "state": {
       "_dom_classes": [],
       "_model_module": "@jupyter-widgets/controls",
       "_model_module_version": "1.5.0",
       "_model_name": "FloatProgressModel",
       "_view_count": null,
       "_view_module": "@jupyter-widgets/controls",
       "_view_module_version": "1.5.0",
       "_view_name": "ProgressView",
       "bar_style": "success",
       "description": "100%",
       "description_tooltip": null,
       "layout": "IPY_MODEL_086e7fa6045e4ae785d05f424d06fcbd",
       "max": 32342954.0,
       "min": 0.0,
       "orientation": "horizontal",
       "style": "IPY_MODEL_9de9a6d745d449d9a90f2ae4e2ba2f62",
       "value": 32342954.0
      }
     },
     "d91a799501f4498cb61a46d1c5e9209c": {
      "model_module": "@jupyter-widgets/base",
      "model_module_version": "1.2.0",
      "model_name": "LayoutModel",
      "state": {
       "_model_module": "@jupyter-widgets/base",
       "_model_module_version": "1.2.0",
       "_model_name": "LayoutModel",
       "_view_count": null,
       "_view_module": "@jupyter-widgets/base",
       "_view_module_version": "1.2.0",
       "_view_name": "LayoutView",
       "align_content": null,
       "align_items": null,
       "align_self": null,
       "border": null,
       "bottom": null,
       "display": null,
       "flex": null,
       "flex_flow": null,
       "grid_area": null,
       "grid_auto_columns": null,
       "grid_auto_flow": null,
       "grid_auto_rows": null,
       "grid_column": null,
       "grid_gap": null,
       "grid_row": null,
       "grid_template_areas": null,
       "grid_template_columns": null,
       "grid_template_rows": null,
       "height": null,
       "justify_content": null,
       "justify_items": null,
       "left": null,
       "margin": null,
       "max_height": null,
       "max_width": null,
       "min_height": null,
       "min_width": null,
       "object_fit": null,
       "object_position": null,
       "order": null,
       "overflow": null,
       "overflow_x": null,
       "overflow_y": null,
       "padding": null,
       "right": null,
       "top": null,
       "visibility": null,
       "width": null
      }
     }
    },
    "version_major": 2,
    "version_minor": 0
   }
  }
 },
 "nbformat": 4,
 "nbformat_minor": 4
}
