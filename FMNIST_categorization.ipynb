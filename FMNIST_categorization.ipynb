{
  "nbformat": 4,
  "nbformat_minor": 0,
  "metadata": {
    "colab": {
      "name": "FMNIST_categorization.ipynb",
      "provenance": [],
      "collapsed_sections": [],
      "authorship_tag": "ABX9TyO42ztE95PAuj2u6bSMDOCS",
      "include_colab_link": true
    },
    "kernelspec": {
      "name": "python3",
      "display_name": "Python 3"
    },
    "widgets": {
      "application/vnd.jupyter.widget-state+json": {
        "eec14dd9b96f48d1843ca4a54ed5b413": {
          "model_module": "@jupyter-widgets/controls",
          "model_name": "HBoxModel",
          "state": {
            "_view_name": "HBoxView",
            "_dom_classes": [],
            "_model_name": "HBoxModel",
            "_view_module": "@jupyter-widgets/controls",
            "_model_module_version": "1.5.0",
            "_view_count": null,
            "_view_module_version": "1.5.0",
            "box_style": "",
            "layout": "IPY_MODEL_386f9c4a374a43d781b0d0806c13b6b0",
            "_model_module": "@jupyter-widgets/controls",
            "children": [
              "IPY_MODEL_fef1cfad41d640dbb7b73c197905f29c",
              "IPY_MODEL_c13fe3d54435438aa9a66d463f2bd9d6"
            ]
          }
        },
        "386f9c4a374a43d781b0d0806c13b6b0": {
          "model_module": "@jupyter-widgets/base",
          "model_name": "LayoutModel",
          "state": {
            "_view_name": "LayoutView",
            "grid_template_rows": null,
            "right": null,
            "justify_content": null,
            "_view_module": "@jupyter-widgets/base",
            "overflow": null,
            "_model_module_version": "1.2.0",
            "_view_count": null,
            "flex_flow": null,
            "width": null,
            "min_width": null,
            "border": null,
            "align_items": null,
            "bottom": null,
            "_model_module": "@jupyter-widgets/base",
            "top": null,
            "grid_column": null,
            "overflow_y": null,
            "overflow_x": null,
            "grid_auto_flow": null,
            "grid_area": null,
            "grid_template_columns": null,
            "flex": null,
            "_model_name": "LayoutModel",
            "justify_items": null,
            "grid_row": null,
            "max_height": null,
            "align_content": null,
            "visibility": null,
            "align_self": null,
            "height": null,
            "min_height": null,
            "padding": null,
            "grid_auto_rows": null,
            "grid_gap": null,
            "max_width": null,
            "order": null,
            "_view_module_version": "1.2.0",
            "grid_template_areas": null,
            "object_position": null,
            "object_fit": null,
            "grid_auto_columns": null,
            "margin": null,
            "display": null,
            "left": null
          }
        },
        "fef1cfad41d640dbb7b73c197905f29c": {
          "model_module": "@jupyter-widgets/controls",
          "model_name": "FloatProgressModel",
          "state": {
            "_view_name": "ProgressView",
            "style": "IPY_MODEL_a6cfd09564304f1f9423287540c4475a",
            "_dom_classes": [],
            "description": "",
            "_model_name": "FloatProgressModel",
            "bar_style": "success",
            "max": 1,
            "_view_module": "@jupyter-widgets/controls",
            "_model_module_version": "1.5.0",
            "value": 1,
            "_view_count": null,
            "_view_module_version": "1.5.0",
            "orientation": "horizontal",
            "min": 0,
            "description_tooltip": null,
            "_model_module": "@jupyter-widgets/controls",
            "layout": "IPY_MODEL_fd3fe83f66e9498ab1a0df9b66446ccb"
          }
        },
        "c13fe3d54435438aa9a66d463f2bd9d6": {
          "model_module": "@jupyter-widgets/controls",
          "model_name": "HTMLModel",
          "state": {
            "_view_name": "HTMLView",
            "style": "IPY_MODEL_4f2b4089809e4b3ea55fbf05f1578344",
            "_dom_classes": [],
            "description": "",
            "_model_name": "HTMLModel",
            "placeholder": "​",
            "_view_module": "@jupyter-widgets/controls",
            "_model_module_version": "1.5.0",
            "value": " 26427392/? [00:05&lt;00:00, 4496141.40it/s]",
            "_view_count": null,
            "_view_module_version": "1.5.0",
            "description_tooltip": null,
            "_model_module": "@jupyter-widgets/controls",
            "layout": "IPY_MODEL_b5790182c6aa46af9c660826cfbbab25"
          }
        },
        "a6cfd09564304f1f9423287540c4475a": {
          "model_module": "@jupyter-widgets/controls",
          "model_name": "ProgressStyleModel",
          "state": {
            "_view_name": "StyleView",
            "_model_name": "ProgressStyleModel",
            "description_width": "initial",
            "_view_module": "@jupyter-widgets/base",
            "_model_module_version": "1.5.0",
            "_view_count": null,
            "_view_module_version": "1.2.0",
            "bar_color": null,
            "_model_module": "@jupyter-widgets/controls"
          }
        },
        "fd3fe83f66e9498ab1a0df9b66446ccb": {
          "model_module": "@jupyter-widgets/base",
          "model_name": "LayoutModel",
          "state": {
            "_view_name": "LayoutView",
            "grid_template_rows": null,
            "right": null,
            "justify_content": null,
            "_view_module": "@jupyter-widgets/base",
            "overflow": null,
            "_model_module_version": "1.2.0",
            "_view_count": null,
            "flex_flow": null,
            "width": null,
            "min_width": null,
            "border": null,
            "align_items": null,
            "bottom": null,
            "_model_module": "@jupyter-widgets/base",
            "top": null,
            "grid_column": null,
            "overflow_y": null,
            "overflow_x": null,
            "grid_auto_flow": null,
            "grid_area": null,
            "grid_template_columns": null,
            "flex": null,
            "_model_name": "LayoutModel",
            "justify_items": null,
            "grid_row": null,
            "max_height": null,
            "align_content": null,
            "visibility": null,
            "align_self": null,
            "height": null,
            "min_height": null,
            "padding": null,
            "grid_auto_rows": null,
            "grid_gap": null,
            "max_width": null,
            "order": null,
            "_view_module_version": "1.2.0",
            "grid_template_areas": null,
            "object_position": null,
            "object_fit": null,
            "grid_auto_columns": null,
            "margin": null,
            "display": null,
            "left": null
          }
        },
        "4f2b4089809e4b3ea55fbf05f1578344": {
          "model_module": "@jupyter-widgets/controls",
          "model_name": "DescriptionStyleModel",
          "state": {
            "_view_name": "StyleView",
            "_model_name": "DescriptionStyleModel",
            "description_width": "",
            "_view_module": "@jupyter-widgets/base",
            "_model_module_version": "1.5.0",
            "_view_count": null,
            "_view_module_version": "1.2.0",
            "_model_module": "@jupyter-widgets/controls"
          }
        },
        "b5790182c6aa46af9c660826cfbbab25": {
          "model_module": "@jupyter-widgets/base",
          "model_name": "LayoutModel",
          "state": {
            "_view_name": "LayoutView",
            "grid_template_rows": null,
            "right": null,
            "justify_content": null,
            "_view_module": "@jupyter-widgets/base",
            "overflow": null,
            "_model_module_version": "1.2.0",
            "_view_count": null,
            "flex_flow": null,
            "width": null,
            "min_width": null,
            "border": null,
            "align_items": null,
            "bottom": null,
            "_model_module": "@jupyter-widgets/base",
            "top": null,
            "grid_column": null,
            "overflow_y": null,
            "overflow_x": null,
            "grid_auto_flow": null,
            "grid_area": null,
            "grid_template_columns": null,
            "flex": null,
            "_model_name": "LayoutModel",
            "justify_items": null,
            "grid_row": null,
            "max_height": null,
            "align_content": null,
            "visibility": null,
            "align_self": null,
            "height": null,
            "min_height": null,
            "padding": null,
            "grid_auto_rows": null,
            "grid_gap": null,
            "max_width": null,
            "order": null,
            "_view_module_version": "1.2.0",
            "grid_template_areas": null,
            "object_position": null,
            "object_fit": null,
            "grid_auto_columns": null,
            "margin": null,
            "display": null,
            "left": null
          }
        },
        "cc92e1e48c4945ff9a011ad5e6d33383": {
          "model_module": "@jupyter-widgets/controls",
          "model_name": "HBoxModel",
          "state": {
            "_view_name": "HBoxView",
            "_dom_classes": [],
            "_model_name": "HBoxModel",
            "_view_module": "@jupyter-widgets/controls",
            "_model_module_version": "1.5.0",
            "_view_count": null,
            "_view_module_version": "1.5.0",
            "box_style": "",
            "layout": "IPY_MODEL_479a6772cca44aaf8cee8dd1b95b19fc",
            "_model_module": "@jupyter-widgets/controls",
            "children": [
              "IPY_MODEL_e7d3fac6d334414ea759d37b613bac72",
              "IPY_MODEL_715d99e3050e4125b6c53e8ebe75178d"
            ]
          }
        },
        "479a6772cca44aaf8cee8dd1b95b19fc": {
          "model_module": "@jupyter-widgets/base",
          "model_name": "LayoutModel",
          "state": {
            "_view_name": "LayoutView",
            "grid_template_rows": null,
            "right": null,
            "justify_content": null,
            "_view_module": "@jupyter-widgets/base",
            "overflow": null,
            "_model_module_version": "1.2.0",
            "_view_count": null,
            "flex_flow": null,
            "width": null,
            "min_width": null,
            "border": null,
            "align_items": null,
            "bottom": null,
            "_model_module": "@jupyter-widgets/base",
            "top": null,
            "grid_column": null,
            "overflow_y": null,
            "overflow_x": null,
            "grid_auto_flow": null,
            "grid_area": null,
            "grid_template_columns": null,
            "flex": null,
            "_model_name": "LayoutModel",
            "justify_items": null,
            "grid_row": null,
            "max_height": null,
            "align_content": null,
            "visibility": null,
            "align_self": null,
            "height": null,
            "min_height": null,
            "padding": null,
            "grid_auto_rows": null,
            "grid_gap": null,
            "max_width": null,
            "order": null,
            "_view_module_version": "1.2.0",
            "grid_template_areas": null,
            "object_position": null,
            "object_fit": null,
            "grid_auto_columns": null,
            "margin": null,
            "display": null,
            "left": null
          }
        },
        "e7d3fac6d334414ea759d37b613bac72": {
          "model_module": "@jupyter-widgets/controls",
          "model_name": "FloatProgressModel",
          "state": {
            "_view_name": "ProgressView",
            "style": "IPY_MODEL_26356c8bb769489882a5619cef3b8dfe",
            "_dom_classes": [],
            "description": "",
            "_model_name": "FloatProgressModel",
            "bar_style": "success",
            "max": 1,
            "_view_module": "@jupyter-widgets/controls",
            "_model_module_version": "1.5.0",
            "value": 1,
            "_view_count": null,
            "_view_module_version": "1.5.0",
            "orientation": "horizontal",
            "min": 0,
            "description_tooltip": null,
            "_model_module": "@jupyter-widgets/controls",
            "layout": "IPY_MODEL_a07069157ca34fdd98e3b09643502a28"
          }
        },
        "715d99e3050e4125b6c53e8ebe75178d": {
          "model_module": "@jupyter-widgets/controls",
          "model_name": "HTMLModel",
          "state": {
            "_view_name": "HTMLView",
            "style": "IPY_MODEL_9f6ad620d0e44512970d86514bd5b508",
            "_dom_classes": [],
            "description": "",
            "_model_name": "HTMLModel",
            "placeholder": "​",
            "_view_module": "@jupyter-widgets/controls",
            "_model_module_version": "1.5.0",
            "value": " 32768/? [00:00&lt;00:00, 98236.43it/s]",
            "_view_count": null,
            "_view_module_version": "1.5.0",
            "description_tooltip": null,
            "_model_module": "@jupyter-widgets/controls",
            "layout": "IPY_MODEL_2c5558124790453684c7cc758ac37b87"
          }
        },
        "26356c8bb769489882a5619cef3b8dfe": {
          "model_module": "@jupyter-widgets/controls",
          "model_name": "ProgressStyleModel",
          "state": {
            "_view_name": "StyleView",
            "_model_name": "ProgressStyleModel",
            "description_width": "initial",
            "_view_module": "@jupyter-widgets/base",
            "_model_module_version": "1.5.0",
            "_view_count": null,
            "_view_module_version": "1.2.0",
            "bar_color": null,
            "_model_module": "@jupyter-widgets/controls"
          }
        },
        "a07069157ca34fdd98e3b09643502a28": {
          "model_module": "@jupyter-widgets/base",
          "model_name": "LayoutModel",
          "state": {
            "_view_name": "LayoutView",
            "grid_template_rows": null,
            "right": null,
            "justify_content": null,
            "_view_module": "@jupyter-widgets/base",
            "overflow": null,
            "_model_module_version": "1.2.0",
            "_view_count": null,
            "flex_flow": null,
            "width": null,
            "min_width": null,
            "border": null,
            "align_items": null,
            "bottom": null,
            "_model_module": "@jupyter-widgets/base",
            "top": null,
            "grid_column": null,
            "overflow_y": null,
            "overflow_x": null,
            "grid_auto_flow": null,
            "grid_area": null,
            "grid_template_columns": null,
            "flex": null,
            "_model_name": "LayoutModel",
            "justify_items": null,
            "grid_row": null,
            "max_height": null,
            "align_content": null,
            "visibility": null,
            "align_self": null,
            "height": null,
            "min_height": null,
            "padding": null,
            "grid_auto_rows": null,
            "grid_gap": null,
            "max_width": null,
            "order": null,
            "_view_module_version": "1.2.0",
            "grid_template_areas": null,
            "object_position": null,
            "object_fit": null,
            "grid_auto_columns": null,
            "margin": null,
            "display": null,
            "left": null
          }
        },
        "9f6ad620d0e44512970d86514bd5b508": {
          "model_module": "@jupyter-widgets/controls",
          "model_name": "DescriptionStyleModel",
          "state": {
            "_view_name": "StyleView",
            "_model_name": "DescriptionStyleModel",
            "description_width": "",
            "_view_module": "@jupyter-widgets/base",
            "_model_module_version": "1.5.0",
            "_view_count": null,
            "_view_module_version": "1.2.0",
            "_model_module": "@jupyter-widgets/controls"
          }
        },
        "2c5558124790453684c7cc758ac37b87": {
          "model_module": "@jupyter-widgets/base",
          "model_name": "LayoutModel",
          "state": {
            "_view_name": "LayoutView",
            "grid_template_rows": null,
            "right": null,
            "justify_content": null,
            "_view_module": "@jupyter-widgets/base",
            "overflow": null,
            "_model_module_version": "1.2.0",
            "_view_count": null,
            "flex_flow": null,
            "width": null,
            "min_width": null,
            "border": null,
            "align_items": null,
            "bottom": null,
            "_model_module": "@jupyter-widgets/base",
            "top": null,
            "grid_column": null,
            "overflow_y": null,
            "overflow_x": null,
            "grid_auto_flow": null,
            "grid_area": null,
            "grid_template_columns": null,
            "flex": null,
            "_model_name": "LayoutModel",
            "justify_items": null,
            "grid_row": null,
            "max_height": null,
            "align_content": null,
            "visibility": null,
            "align_self": null,
            "height": null,
            "min_height": null,
            "padding": null,
            "grid_auto_rows": null,
            "grid_gap": null,
            "max_width": null,
            "order": null,
            "_view_module_version": "1.2.0",
            "grid_template_areas": null,
            "object_position": null,
            "object_fit": null,
            "grid_auto_columns": null,
            "margin": null,
            "display": null,
            "left": null
          }
        },
        "4e0b6d00cb0a40c68f15760c2648f3ea": {
          "model_module": "@jupyter-widgets/controls",
          "model_name": "HBoxModel",
          "state": {
            "_view_name": "HBoxView",
            "_dom_classes": [],
            "_model_name": "HBoxModel",
            "_view_module": "@jupyter-widgets/controls",
            "_model_module_version": "1.5.0",
            "_view_count": null,
            "_view_module_version": "1.5.0",
            "box_style": "",
            "layout": "IPY_MODEL_d076cb82f17346669f6bfae1ea43d7d6",
            "_model_module": "@jupyter-widgets/controls",
            "children": [
              "IPY_MODEL_588c2f3d1372462fb128044845cec525",
              "IPY_MODEL_e306333f2a534760996a276211a53d60"
            ]
          }
        },
        "d076cb82f17346669f6bfae1ea43d7d6": {
          "model_module": "@jupyter-widgets/base",
          "model_name": "LayoutModel",
          "state": {
            "_view_name": "LayoutView",
            "grid_template_rows": null,
            "right": null,
            "justify_content": null,
            "_view_module": "@jupyter-widgets/base",
            "overflow": null,
            "_model_module_version": "1.2.0",
            "_view_count": null,
            "flex_flow": null,
            "width": null,
            "min_width": null,
            "border": null,
            "align_items": null,
            "bottom": null,
            "_model_module": "@jupyter-widgets/base",
            "top": null,
            "grid_column": null,
            "overflow_y": null,
            "overflow_x": null,
            "grid_auto_flow": null,
            "grid_area": null,
            "grid_template_columns": null,
            "flex": null,
            "_model_name": "LayoutModel",
            "justify_items": null,
            "grid_row": null,
            "max_height": null,
            "align_content": null,
            "visibility": null,
            "align_self": null,
            "height": null,
            "min_height": null,
            "padding": null,
            "grid_auto_rows": null,
            "grid_gap": null,
            "max_width": null,
            "order": null,
            "_view_module_version": "1.2.0",
            "grid_template_areas": null,
            "object_position": null,
            "object_fit": null,
            "grid_auto_columns": null,
            "margin": null,
            "display": null,
            "left": null
          }
        },
        "588c2f3d1372462fb128044845cec525": {
          "model_module": "@jupyter-widgets/controls",
          "model_name": "FloatProgressModel",
          "state": {
            "_view_name": "ProgressView",
            "style": "IPY_MODEL_7c425947b9cd4acb84a44817e681599e",
            "_dom_classes": [],
            "description": "",
            "_model_name": "FloatProgressModel",
            "bar_style": "success",
            "max": 1,
            "_view_module": "@jupyter-widgets/controls",
            "_model_module_version": "1.5.0",
            "value": 1,
            "_view_count": null,
            "_view_module_version": "1.5.0",
            "orientation": "horizontal",
            "min": 0,
            "description_tooltip": null,
            "_model_module": "@jupyter-widgets/controls",
            "layout": "IPY_MODEL_89cff4a7942d425f9387863c48a0bf0c"
          }
        },
        "e306333f2a534760996a276211a53d60": {
          "model_module": "@jupyter-widgets/controls",
          "model_name": "HTMLModel",
          "state": {
            "_view_name": "HTMLView",
            "style": "IPY_MODEL_c93a30dcc5f243c09e0f72d896e19d3e",
            "_dom_classes": [],
            "description": "",
            "_model_name": "HTMLModel",
            "placeholder": "​",
            "_view_module": "@jupyter-widgets/controls",
            "_model_module_version": "1.5.0",
            "value": " 4423680/? [00:00&lt;00:00, 18150518.58it/s]",
            "_view_count": null,
            "_view_module_version": "1.5.0",
            "description_tooltip": null,
            "_model_module": "@jupyter-widgets/controls",
            "layout": "IPY_MODEL_1fe71bc57a63463399060024147a6158"
          }
        },
        "7c425947b9cd4acb84a44817e681599e": {
          "model_module": "@jupyter-widgets/controls",
          "model_name": "ProgressStyleModel",
          "state": {
            "_view_name": "StyleView",
            "_model_name": "ProgressStyleModel",
            "description_width": "initial",
            "_view_module": "@jupyter-widgets/base",
            "_model_module_version": "1.5.0",
            "_view_count": null,
            "_view_module_version": "1.2.0",
            "bar_color": null,
            "_model_module": "@jupyter-widgets/controls"
          }
        },
        "89cff4a7942d425f9387863c48a0bf0c": {
          "model_module": "@jupyter-widgets/base",
          "model_name": "LayoutModel",
          "state": {
            "_view_name": "LayoutView",
            "grid_template_rows": null,
            "right": null,
            "justify_content": null,
            "_view_module": "@jupyter-widgets/base",
            "overflow": null,
            "_model_module_version": "1.2.0",
            "_view_count": null,
            "flex_flow": null,
            "width": null,
            "min_width": null,
            "border": null,
            "align_items": null,
            "bottom": null,
            "_model_module": "@jupyter-widgets/base",
            "top": null,
            "grid_column": null,
            "overflow_y": null,
            "overflow_x": null,
            "grid_auto_flow": null,
            "grid_area": null,
            "grid_template_columns": null,
            "flex": null,
            "_model_name": "LayoutModel",
            "justify_items": null,
            "grid_row": null,
            "max_height": null,
            "align_content": null,
            "visibility": null,
            "align_self": null,
            "height": null,
            "min_height": null,
            "padding": null,
            "grid_auto_rows": null,
            "grid_gap": null,
            "max_width": null,
            "order": null,
            "_view_module_version": "1.2.0",
            "grid_template_areas": null,
            "object_position": null,
            "object_fit": null,
            "grid_auto_columns": null,
            "margin": null,
            "display": null,
            "left": null
          }
        },
        "c93a30dcc5f243c09e0f72d896e19d3e": {
          "model_module": "@jupyter-widgets/controls",
          "model_name": "DescriptionStyleModel",
          "state": {
            "_view_name": "StyleView",
            "_model_name": "DescriptionStyleModel",
            "description_width": "",
            "_view_module": "@jupyter-widgets/base",
            "_model_module_version": "1.5.0",
            "_view_count": null,
            "_view_module_version": "1.2.0",
            "_model_module": "@jupyter-widgets/controls"
          }
        },
        "1fe71bc57a63463399060024147a6158": {
          "model_module": "@jupyter-widgets/base",
          "model_name": "LayoutModel",
          "state": {
            "_view_name": "LayoutView",
            "grid_template_rows": null,
            "right": null,
            "justify_content": null,
            "_view_module": "@jupyter-widgets/base",
            "overflow": null,
            "_model_module_version": "1.2.0",
            "_view_count": null,
            "flex_flow": null,
            "width": null,
            "min_width": null,
            "border": null,
            "align_items": null,
            "bottom": null,
            "_model_module": "@jupyter-widgets/base",
            "top": null,
            "grid_column": null,
            "overflow_y": null,
            "overflow_x": null,
            "grid_auto_flow": null,
            "grid_area": null,
            "grid_template_columns": null,
            "flex": null,
            "_model_name": "LayoutModel",
            "justify_items": null,
            "grid_row": null,
            "max_height": null,
            "align_content": null,
            "visibility": null,
            "align_self": null,
            "height": null,
            "min_height": null,
            "padding": null,
            "grid_auto_rows": null,
            "grid_gap": null,
            "max_width": null,
            "order": null,
            "_view_module_version": "1.2.0",
            "grid_template_areas": null,
            "object_position": null,
            "object_fit": null,
            "grid_auto_columns": null,
            "margin": null,
            "display": null,
            "left": null
          }
        },
        "33c576e36ffc4a2e968818d36b3d6ac9": {
          "model_module": "@jupyter-widgets/controls",
          "model_name": "HBoxModel",
          "state": {
            "_view_name": "HBoxView",
            "_dom_classes": [],
            "_model_name": "HBoxModel",
            "_view_module": "@jupyter-widgets/controls",
            "_model_module_version": "1.5.0",
            "_view_count": null,
            "_view_module_version": "1.5.0",
            "box_style": "",
            "layout": "IPY_MODEL_bd1d541d68584aba92ca4eb1ab9d9723",
            "_model_module": "@jupyter-widgets/controls",
            "children": [
              "IPY_MODEL_d418147804f74d3ebd386de8afb3e58e",
              "IPY_MODEL_d564c447a92643888545bc19f563e943"
            ]
          }
        },
        "bd1d541d68584aba92ca4eb1ab9d9723": {
          "model_module": "@jupyter-widgets/base",
          "model_name": "LayoutModel",
          "state": {
            "_view_name": "LayoutView",
            "grid_template_rows": null,
            "right": null,
            "justify_content": null,
            "_view_module": "@jupyter-widgets/base",
            "overflow": null,
            "_model_module_version": "1.2.0",
            "_view_count": null,
            "flex_flow": null,
            "width": null,
            "min_width": null,
            "border": null,
            "align_items": null,
            "bottom": null,
            "_model_module": "@jupyter-widgets/base",
            "top": null,
            "grid_column": null,
            "overflow_y": null,
            "overflow_x": null,
            "grid_auto_flow": null,
            "grid_area": null,
            "grid_template_columns": null,
            "flex": null,
            "_model_name": "LayoutModel",
            "justify_items": null,
            "grid_row": null,
            "max_height": null,
            "align_content": null,
            "visibility": null,
            "align_self": null,
            "height": null,
            "min_height": null,
            "padding": null,
            "grid_auto_rows": null,
            "grid_gap": null,
            "max_width": null,
            "order": null,
            "_view_module_version": "1.2.0",
            "grid_template_areas": null,
            "object_position": null,
            "object_fit": null,
            "grid_auto_columns": null,
            "margin": null,
            "display": null,
            "left": null
          }
        },
        "d418147804f74d3ebd386de8afb3e58e": {
          "model_module": "@jupyter-widgets/controls",
          "model_name": "FloatProgressModel",
          "state": {
            "_view_name": "ProgressView",
            "style": "IPY_MODEL_61689a8cb1a74b4b810363ab202af29e",
            "_dom_classes": [],
            "description": "",
            "_model_name": "FloatProgressModel",
            "bar_style": "success",
            "max": 1,
            "_view_module": "@jupyter-widgets/controls",
            "_model_module_version": "1.5.0",
            "value": 1,
            "_view_count": null,
            "_view_module_version": "1.5.0",
            "orientation": "horizontal",
            "min": 0,
            "description_tooltip": null,
            "_model_module": "@jupyter-widgets/controls",
            "layout": "IPY_MODEL_12c173dbf2014bdf9cd2e97441e92d14"
          }
        },
        "d564c447a92643888545bc19f563e943": {
          "model_module": "@jupyter-widgets/controls",
          "model_name": "HTMLModel",
          "state": {
            "_view_name": "HTMLView",
            "style": "IPY_MODEL_a17d090d429e4b58b47f7b65d97ca74d",
            "_dom_classes": [],
            "description": "",
            "_model_name": "HTMLModel",
            "placeholder": "​",
            "_view_module": "@jupyter-widgets/controls",
            "_model_module_version": "1.5.0",
            "value": " 8192/? [00:04&lt;00:00, 1748.68it/s]",
            "_view_count": null,
            "_view_module_version": "1.5.0",
            "description_tooltip": null,
            "_model_module": "@jupyter-widgets/controls",
            "layout": "IPY_MODEL_dd461cf04e1c49d3bdbca42f47753bb7"
          }
        },
        "61689a8cb1a74b4b810363ab202af29e": {
          "model_module": "@jupyter-widgets/controls",
          "model_name": "ProgressStyleModel",
          "state": {
            "_view_name": "StyleView",
            "_model_name": "ProgressStyleModel",
            "description_width": "initial",
            "_view_module": "@jupyter-widgets/base",
            "_model_module_version": "1.5.0",
            "_view_count": null,
            "_view_module_version": "1.2.0",
            "bar_color": null,
            "_model_module": "@jupyter-widgets/controls"
          }
        },
        "12c173dbf2014bdf9cd2e97441e92d14": {
          "model_module": "@jupyter-widgets/base",
          "model_name": "LayoutModel",
          "state": {
            "_view_name": "LayoutView",
            "grid_template_rows": null,
            "right": null,
            "justify_content": null,
            "_view_module": "@jupyter-widgets/base",
            "overflow": null,
            "_model_module_version": "1.2.0",
            "_view_count": null,
            "flex_flow": null,
            "width": null,
            "min_width": null,
            "border": null,
            "align_items": null,
            "bottom": null,
            "_model_module": "@jupyter-widgets/base",
            "top": null,
            "grid_column": null,
            "overflow_y": null,
            "overflow_x": null,
            "grid_auto_flow": null,
            "grid_area": null,
            "grid_template_columns": null,
            "flex": null,
            "_model_name": "LayoutModel",
            "justify_items": null,
            "grid_row": null,
            "max_height": null,
            "align_content": null,
            "visibility": null,
            "align_self": null,
            "height": null,
            "min_height": null,
            "padding": null,
            "grid_auto_rows": null,
            "grid_gap": null,
            "max_width": null,
            "order": null,
            "_view_module_version": "1.2.0",
            "grid_template_areas": null,
            "object_position": null,
            "object_fit": null,
            "grid_auto_columns": null,
            "margin": null,
            "display": null,
            "left": null
          }
        },
        "a17d090d429e4b58b47f7b65d97ca74d": {
          "model_module": "@jupyter-widgets/controls",
          "model_name": "DescriptionStyleModel",
          "state": {
            "_view_name": "StyleView",
            "_model_name": "DescriptionStyleModel",
            "description_width": "",
            "_view_module": "@jupyter-widgets/base",
            "_model_module_version": "1.5.0",
            "_view_count": null,
            "_view_module_version": "1.2.0",
            "_model_module": "@jupyter-widgets/controls"
          }
        },
        "dd461cf04e1c49d3bdbca42f47753bb7": {
          "model_module": "@jupyter-widgets/base",
          "model_name": "LayoutModel",
          "state": {
            "_view_name": "LayoutView",
            "grid_template_rows": null,
            "right": null,
            "justify_content": null,
            "_view_module": "@jupyter-widgets/base",
            "overflow": null,
            "_model_module_version": "1.2.0",
            "_view_count": null,
            "flex_flow": null,
            "width": null,
            "min_width": null,
            "border": null,
            "align_items": null,
            "bottom": null,
            "_model_module": "@jupyter-widgets/base",
            "top": null,
            "grid_column": null,
            "overflow_y": null,
            "overflow_x": null,
            "grid_auto_flow": null,
            "grid_area": null,
            "grid_template_columns": null,
            "flex": null,
            "_model_name": "LayoutModel",
            "justify_items": null,
            "grid_row": null,
            "max_height": null,
            "align_content": null,
            "visibility": null,
            "align_self": null,
            "height": null,
            "min_height": null,
            "padding": null,
            "grid_auto_rows": null,
            "grid_gap": null,
            "max_width": null,
            "order": null,
            "_view_module_version": "1.2.0",
            "grid_template_areas": null,
            "object_position": null,
            "object_fit": null,
            "grid_auto_columns": null,
            "margin": null,
            "display": null,
            "left": null
          }
        }
      }
    }
  },
  "cells": [
    {
      "cell_type": "markdown",
      "metadata": {
        "id": "view-in-github",
        "colab_type": "text"
      },
      "source": [
        "<a href=\"https://colab.research.google.com/github/imasy36/Machine-Learning-with-python/blob/master/FMNIST_categorization.ipynb\" target=\"_parent\"><img src=\"https://colab.research.google.com/assets/colab-badge.svg\" alt=\"Open In Colab\"/></a>"
      ]
    },
    {
      "cell_type": "code",
      "metadata": {
        "id": "WO3kABSW7UK_",
        "colab_type": "code",
        "colab": {}
      },
      "source": [
        "# model to predict the category of cloth \n",
        "# dataset used F_MNIST_data\n",
        "# author @imasy36"
      ],
      "execution_count": 1,
      "outputs": []
    },
    {
      "cell_type": "code",
      "metadata": {
        "id": "aWuroATc-VV_",
        "colab_type": "code",
        "colab": {}
      },
      "source": [
        "%matplotlib inline\n",
        "from google.colab import files\n",
        "import torch\n",
        "from torchvision import datasets, transforms\n",
        "import matplotlib.pyplot as plt"
      ],
      "execution_count": 2,
      "outputs": []
    },
    {
      "cell_type": "code",
      "metadata": {
        "id": "rERBI7x--pbp",
        "colab_type": "code",
        "colab": {
          "base_uri": "https://localhost:8080/",
          "height": 403,
          "referenced_widgets": [
            "eec14dd9b96f48d1843ca4a54ed5b413",
            "386f9c4a374a43d781b0d0806c13b6b0",
            "fef1cfad41d640dbb7b73c197905f29c",
            "c13fe3d54435438aa9a66d463f2bd9d6",
            "a6cfd09564304f1f9423287540c4475a",
            "fd3fe83f66e9498ab1a0df9b66446ccb",
            "4f2b4089809e4b3ea55fbf05f1578344",
            "b5790182c6aa46af9c660826cfbbab25",
            "cc92e1e48c4945ff9a011ad5e6d33383",
            "479a6772cca44aaf8cee8dd1b95b19fc",
            "e7d3fac6d334414ea759d37b613bac72",
            "715d99e3050e4125b6c53e8ebe75178d",
            "26356c8bb769489882a5619cef3b8dfe",
            "a07069157ca34fdd98e3b09643502a28",
            "9f6ad620d0e44512970d86514bd5b508",
            "2c5558124790453684c7cc758ac37b87",
            "4e0b6d00cb0a40c68f15760c2648f3ea",
            "d076cb82f17346669f6bfae1ea43d7d6",
            "588c2f3d1372462fb128044845cec525",
            "e306333f2a534760996a276211a53d60",
            "7c425947b9cd4acb84a44817e681599e",
            "89cff4a7942d425f9387863c48a0bf0c",
            "c93a30dcc5f243c09e0f72d896e19d3e",
            "1fe71bc57a63463399060024147a6158",
            "33c576e36ffc4a2e968818d36b3d6ac9",
            "bd1d541d68584aba92ca4eb1ab9d9723",
            "d418147804f74d3ebd386de8afb3e58e",
            "d564c447a92643888545bc19f563e943",
            "61689a8cb1a74b4b810363ab202af29e",
            "12c173dbf2014bdf9cd2e97441e92d14",
            "a17d090d429e4b58b47f7b65d97ca74d",
            "dd461cf04e1c49d3bdbca42f47753bb7"
          ]
        },
        "outputId": "8bcc960a-f1d6-43f3-80de-0eda8918bf85"
      },
      "source": [
        "#getting data\n",
        "trans = transforms.Compose([transforms.ToTensor(), transforms.Normalize((0.5,),(0.5))])\n",
        "traindata = datasets.FashionMNIST('FMNIST_data/',train=True, download=True, transform=trans)\n",
        "testdata = datasets.FashionMNIST('FMNIST_data/', train=False, download=True, transform=trans)\n",
        "trainloader = torch.utils.data.DataLoader(traindata, batch_size=64, shuffle=True)\n",
        "testloader = torch.utils.data.DataLoader(testdata, batch_size=64, shuffle=True)"
      ],
      "execution_count": 3,
      "outputs": [
        {
          "output_type": "stream",
          "text": [
            "Downloading http://fashion-mnist.s3-website.eu-central-1.amazonaws.com/train-images-idx3-ubyte.gz to FMNIST_data/FashionMNIST/raw/train-images-idx3-ubyte.gz\n"
          ],
          "name": "stdout"
        },
        {
          "output_type": "display_data",
          "data": {
            "application/vnd.jupyter.widget-view+json": {
              "model_id": "eec14dd9b96f48d1843ca4a54ed5b413",
              "version_minor": 0,
              "version_major": 2
            },
            "text/plain": [
              "HBox(children=(FloatProgress(value=1.0, bar_style='info', max=1.0), HTML(value='')))"
            ]
          },
          "metadata": {
            "tags": []
          }
        },
        {
          "output_type": "stream",
          "text": [
            "Extracting FMNIST_data/FashionMNIST/raw/train-images-idx3-ubyte.gz to FMNIST_data/FashionMNIST/raw\n",
            "Downloading http://fashion-mnist.s3-website.eu-central-1.amazonaws.com/train-labels-idx1-ubyte.gz to FMNIST_data/FashionMNIST/raw/train-labels-idx1-ubyte.gz\n"
          ],
          "name": "stdout"
        },
        {
          "output_type": "display_data",
          "data": {
            "application/vnd.jupyter.widget-view+json": {
              "model_id": "cc92e1e48c4945ff9a011ad5e6d33383",
              "version_minor": 0,
              "version_major": 2
            },
            "text/plain": [
              "HBox(children=(FloatProgress(value=1.0, bar_style='info', max=1.0), HTML(value='')))"
            ]
          },
          "metadata": {
            "tags": []
          }
        },
        {
          "output_type": "stream",
          "text": [
            "Extracting FMNIST_data/FashionMNIST/raw/train-labels-idx1-ubyte.gz to FMNIST_data/FashionMNIST/raw\n",
            "Downloading http://fashion-mnist.s3-website.eu-central-1.amazonaws.com/t10k-images-idx3-ubyte.gz to FMNIST_data/FashionMNIST/raw/t10k-images-idx3-ubyte.gz\n"
          ],
          "name": "stdout"
        },
        {
          "output_type": "display_data",
          "data": {
            "application/vnd.jupyter.widget-view+json": {
              "model_id": "4e0b6d00cb0a40c68f15760c2648f3ea",
              "version_minor": 0,
              "version_major": 2
            },
            "text/plain": [
              "HBox(children=(FloatProgress(value=1.0, bar_style='info', max=1.0), HTML(value='')))"
            ]
          },
          "metadata": {
            "tags": []
          }
        },
        {
          "output_type": "stream",
          "text": [
            "Extracting FMNIST_data/FashionMNIST/raw/t10k-images-idx3-ubyte.gz to FMNIST_data/FashionMNIST/raw\n",
            "Downloading http://fashion-mnist.s3-website.eu-central-1.amazonaws.com/t10k-labels-idx1-ubyte.gz to FMNIST_data/FashionMNIST/raw/t10k-labels-idx1-ubyte.gz\n",
            "\n",
            "\n"
          ],
          "name": "stdout"
        },
        {
          "output_type": "display_data",
          "data": {
            "application/vnd.jupyter.widget-view+json": {
              "model_id": "33c576e36ffc4a2e968818d36b3d6ac9",
              "version_minor": 0,
              "version_major": 2
            },
            "text/plain": [
              "HBox(children=(FloatProgress(value=1.0, bar_style='info', max=1.0), HTML(value='')))"
            ]
          },
          "metadata": {
            "tags": []
          }
        },
        {
          "output_type": "stream",
          "text": [
            "Extracting FMNIST_data/FashionMNIST/raw/t10k-labels-idx1-ubyte.gz to FMNIST_data/FashionMNIST/raw\n",
            "Processing...\n",
            "Done!\n"
          ],
          "name": "stdout"
        },
        {
          "output_type": "stream",
          "text": [
            "/usr/local/lib/python3.6/dist-packages/torchvision/datasets/mnist.py:469: UserWarning: The given NumPy array is not writeable, and PyTorch does not support non-writeable tensors. This means you can write to the underlying (supposedly non-writeable) NumPy array using the tensor. You may want to copy the array to protect its data or make it writeable before converting it to a tensor. This type of warning will be suppressed for the rest of this program. (Triggered internally at  /pytorch/torch/csrc/utils/tensor_numpy.cpp:141.)\n",
            "  return torch.from_numpy(parsed.astype(m[2], copy=False)).view(*s)\n"
          ],
          "name": "stderr"
        }
      ]
    },
    {
      "cell_type": "code",
      "metadata": {
        "id": "TBI6jhrT8_Rv",
        "colab_type": "code",
        "colab": {
          "base_uri": "https://localhost:8080/",
          "height": 316
        },
        "outputId": "3a544ba0-0717-47ac-d5f4-d428bec344c4"
      },
      "source": [
        "# verifying data\n",
        "temp = iter(trainloader)\n",
        "images, labels = temp.next()\n",
        "print(images.size())\n",
        "plt.imshow(images[4].numpy().squeeze())"
      ],
      "execution_count": 4,
      "outputs": [
        {
          "output_type": "stream",
          "text": [
            "torch.Size([64, 1, 28, 28])\n"
          ],
          "name": "stdout"
        },
        {
          "output_type": "execute_result",
          "data": {
            "text/plain": [
              "<matplotlib.image.AxesImage at 0x7f9c3b419588>"
            ]
          },
          "metadata": {
            "tags": []
          },
          "execution_count": 4
        },
        {
          "output_type": "stream",
          "text": [
            "\n",
            "\n"
          ],
          "name": "stdout"
        },
        {
          "output_type": "display_data",
          "data": {
            "image/png": "[encoded data removed]",
            "text/plain": [
              "<Figure size 432x288 with 1 Axes>"
            ]
          },
          "metadata": {
            "tags": [],
            "needs_background": "light"
          }
        }
      ]
    },
    {
      "cell_type": "code",
      "metadata": {
        "id": "-BjydNa_9nlR",
        "colab_type": "code",
        "colab": {
          "base_uri": "https://localhost:8080/",
          "height": 187
        },
        "outputId": "6b299cef-8650-4239-8a74-21d20333afce"
      },
      "source": [
        "# creating Model\n",
        "from collections import OrderedDict\n",
        "model = torch.nn.Sequential(OrderedDict([\n",
        "            ('InputLayer',torch.nn.Linear(784,256)),\n",
        "            ('ReLU1',torch.nn.ReLU()),\n",
        "            ('HiddenLayer1',torch.nn.Linear(256,128)),\n",
        "            ('ReLU2',torch.nn.ReLU()),\n",
        "            ('HiddenLayer2',torch.nn.Linear(128,64)),\n",
        "            ('ReLU3',torch.nn.ReLU()),\n",
        "            ('OutputLayer',torch.nn.Linear(64,10)),\n",
        "            ('Softmax',torch.nn.Softmax(dim=1)),                                       \n",
        "]))\n",
        "print(model)"
      ],
      "execution_count": 5,
      "outputs": [
        {
          "output_type": "stream",
          "text": [
            "Sequential(\n",
            "  (InputLayer): Linear(in_features=784, out_features=256, bias=True)\n",
            "  (ReLU1): ReLU()\n",
            "  (HiddenLayer1): Linear(in_features=256, out_features=128, bias=True)\n",
            "  (ReLU2): ReLU()\n",
            "  (HiddenLayer2): Linear(in_features=128, out_features=64, bias=True)\n",
            "  (ReLU3): ReLU()\n",
            "  (OutputLayer): Linear(in_features=64, out_features=10, bias=True)\n",
            "  (Softmax): Softmax(dim=1)\n",
            ")\n"
          ],
          "name": "stdout"
        }
      ]
    },
    {
      "cell_type": "code",
      "metadata": {
        "id": "qXQ2YzeFAMgp",
        "colab_type": "code",
        "colab": {}
      },
      "source": [
        "loss_fun = torch.nn.CrossEntropyLoss()\n",
        "optimizer = torch.optim.SGD(model.parameters(), lr=0.01) # train [e=10,lr=0.01] -> [e=2,lr=0.1] -> [e=10,lr=0.01]"
      ],
      "execution_count": 14,
      "outputs": []
    },
    {
      "cell_type": "code",
      "metadata": {
        "id": "ldczJ8fdBAa1",
        "colab_type": "code",
        "colab": {
          "base_uri": "https://localhost:8080/",
          "height": 1000
        },
        "outputId": "a00b98ef-d8fb-401f-806b-f4602ad7caa9"
      },
      "source": [
        "#training model\n",
        "epochs = 10\n",
        "running_loss = 0\n",
        "steps = 0\n",
        "print_step = 100\n",
        "for e in range(epochs):\n",
        "  for images, labels in trainloader:\n",
        "    steps+=1\n",
        "    images = images.resize_(images.size()[0], 784)\n",
        "    output = model.forward(images)\n",
        "    optimizer.zero_grad()\n",
        "    loss = loss_fun(output, labels)\n",
        "    loss.backward()\n",
        "    optimizer.step()\n",
        "    running_loss+=loss.item()\n",
        "    if steps % print_step == 0:\n",
        "      print(\"epochs {} of {} | running loss {}\".format(e+1,epochs,running_loss/print_step))\n",
        "      running_loss = 0\n"
      ],
      "execution_count": 15,
      "outputs": [
        {
          "output_type": "stream",
          "text": [
            "epochs 1 of 10 | running loss 1.6784722268581391\n",
            "epochs 1 of 10 | running loss 1.6682626044750213\n",
            "epochs 1 of 10 | running loss 1.673923978805542\n",
            "epochs 1 of 10 | running loss 1.675249366760254\n",
            "epochs 1 of 10 | running loss 1.673569792509079\n",
            "epochs 1 of 10 | running loss 1.6826885092258452\n",
            "epochs 1 of 10 | running loss 1.6685078811645508\n",
            "epochs 1 of 10 | running loss 1.6834235346317292\n",
            "epochs 1 of 10 | running loss 1.6776335859298706\n",
            "epochs 2 of 10 | running loss 1.6720139813423156\n",
            "epochs 2 of 10 | running loss 1.6699965333938598\n",
            "epochs 2 of 10 | running loss 1.6814363527297973\n",
            "epochs 2 of 10 | running loss 1.6712505757808684\n",
            "epochs 2 of 10 | running loss 1.6692913889884948\n",
            "epochs 2 of 10 | running loss 1.6708515763282776\n",
            "epochs 2 of 10 | running loss 1.6726407063007356\n",
            "epochs 2 of 10 | running loss 1.675166860818863\n",
            "epochs 2 of 10 | running loss 1.676170928478241\n",
            "epochs 3 of 10 | running loss 1.6762703204154967\n",
            "epochs 3 of 10 | running loss 1.671150712966919\n",
            "epochs 3 of 10 | running loss 1.6659284627437592\n",
            "epochs 3 of 10 | running loss 1.6800167751312256\n",
            "epochs 3 of 10 | running loss 1.6742475545406341\n",
            "epochs 3 of 10 | running loss 1.6668766129016876\n",
            "epochs 3 of 10 | running loss 1.6742507338523864\n",
            "epochs 3 of 10 | running loss 1.6704115402698516\n",
            "epochs 3 of 10 | running loss 1.6698137080669404\n",
            "epochs 3 of 10 | running loss 1.670840880870819\n",
            "epochs 4 of 10 | running loss 1.673588857650757\n",
            "epochs 4 of 10 | running loss 1.6826612412929536\n",
            "epochs 4 of 10 | running loss 1.6712195491790771\n",
            "epochs 4 of 10 | running loss 1.6740764951705933\n",
            "epochs 4 of 10 | running loss 1.6687188982963561\n",
            "epochs 4 of 10 | running loss 1.6625265073776245\n",
            "epochs 4 of 10 | running loss 1.6601990795135497\n",
            "epochs 4 of 10 | running loss 1.6705241310596466\n",
            "epochs 4 of 10 | running loss 1.6765406799316407\n",
            "epochs 5 of 10 | running loss 1.6668831026554107\n",
            "epochs 5 of 10 | running loss 1.6695709323883057\n",
            "epochs 5 of 10 | running loss 1.6656840300559999\n",
            "epochs 5 of 10 | running loss 1.6712046110630034\n",
            "epochs 5 of 10 | running loss 1.6680324053764344\n",
            "epochs 5 of 10 | running loss 1.6666785192489624\n",
            "epochs 5 of 10 | running loss 1.682012014389038\n",
            "epochs 5 of 10 | running loss 1.6737554919719697\n",
            "epochs 5 of 10 | running loss 1.6701883220672606\n",
            "epochs 6 of 10 | running loss 1.6612036371231078\n",
            "epochs 6 of 10 | running loss 1.6734527778625488\n",
            "epochs 6 of 10 | running loss 1.6631514596939088\n",
            "epochs 6 of 10 | running loss 1.6616151642799377\n",
            "epochs 6 of 10 | running loss 1.671445528268814\n",
            "epochs 6 of 10 | running loss 1.6699749529361725\n",
            "epochs 6 of 10 | running loss 1.6709361970424652\n",
            "epochs 6 of 10 | running loss 1.670620198249817\n",
            "epochs 6 of 10 | running loss 1.6682504951953887\n",
            "epochs 6 of 10 | running loss 1.6685618984699249\n",
            "epochs 7 of 10 | running loss 1.6664152765274047\n",
            "epochs 7 of 10 | running loss 1.6624582087993622\n",
            "epochs 7 of 10 | running loss 1.6691441440582275\n",
            "epochs 7 of 10 | running loss 1.661902961730957\n",
            "epochs 7 of 10 | running loss 1.6640255928039551\n",
            "epochs 7 of 10 | running loss 1.667683402299881\n",
            "epochs 7 of 10 | running loss 1.6675682961940765\n",
            "epochs 7 of 10 | running loss 1.6670082664489747\n",
            "epochs 7 of 10 | running loss 1.6726491510868073\n",
            "epochs 8 of 10 | running loss 1.667889565229416\n",
            "epochs 8 of 10 | running loss 1.6630116701126099\n",
            "epochs 8 of 10 | running loss 1.671756192445755\n",
            "epochs 8 of 10 | running loss 1.6667403519153594\n",
            "epochs 8 of 10 | running loss 1.6671582007408141\n",
            "epochs 8 of 10 | running loss 1.6614208614826202\n",
            "epochs 8 of 10 | running loss 1.6627079844474792\n",
            "epochs 8 of 10 | running loss 1.6686361634731293\n",
            "epochs 8 of 10 | running loss 1.6668108487129212\n",
            "epochs 8 of 10 | running loss 1.66705428481102\n",
            "epochs 9 of 10 | running loss 1.656611351966858\n",
            "epochs 9 of 10 | running loss 1.6686052620410918\n",
            "epochs 9 of 10 | running loss 1.6677864813804626\n",
            "epochs 9 of 10 | running loss 1.6725009763240815\n",
            "epochs 9 of 10 | running loss 1.660337471961975\n",
            "epochs 9 of 10 | running loss 1.665135408639908\n",
            "epochs 9 of 10 | running loss 1.659636422395706\n",
            "epochs 9 of 10 | running loss 1.666488676071167\n",
            "epochs 9 of 10 | running loss 1.6579275333881378\n",
            "epochs 10 of 10 | running loss 1.667232048511505\n",
            "epochs 10 of 10 | running loss 1.6576862740516662\n",
            "epochs 10 of 10 | running loss 1.664346945285797\n",
            "epochs 10 of 10 | running loss 1.665239018201828\n",
            "epochs 10 of 10 | running loss 1.6687051737308503\n",
            "epochs 10 of 10 | running loss 1.6599732887744905\n",
            "epochs 10 of 10 | running loss 1.6621739172935486\n",
            "epochs 10 of 10 | running loss 1.6621159529685974\n",
            "epochs 10 of 10 | running loss 1.666495566368103\n"
          ],
          "name": "stdout"
        }
      ]
    },
    {
      "cell_type": "code",
      "metadata": {
        "id": "_4ElrLybB5wo",
        "colab_type": "code",
        "colab": {
          "base_uri": "https://localhost:8080/",
          "height": 102
        },
        "outputId": "e1d6f0e4-90ca-4338-aa27-5767ca9aefed"
      },
      "source": [
        "# testing data\n",
        "steps = 0\n",
        "acc = 0\n",
        "print_step = 30\n",
        "for images, labels in testloader:\n",
        "  steps += 1\n",
        "  images = images.resize_(images.size(0),784)\n",
        "  with torch.no_grad() :\n",
        "    output = model.forward(images)\n",
        "  pr = torch.nn.functional.softmax(output, dim =1) \n",
        "  equal = (labels.data == pr.max(1)[1])\n",
        "  acc += equal.type(torch.FloatTensor).mean()\n",
        "  if steps%print_step == 0 :\n",
        "    print(\"Accuracy : {}\".format(acc/print_step))\n",
        "    acc = 0"
      ],
      "execution_count": 16,
      "outputs": [
        {
          "output_type": "stream",
          "text": [
            "Accuracy : 0.7796875238418579\n",
            "Accuracy : 0.7807291746139526\n",
            "Accuracy : 0.7807291746139526\n",
            "Accuracy : 0.7848958373069763\n",
            "Accuracy : 0.7901041507720947\n"
          ],
          "name": "stdout"
        }
      ]
    },
    {
      "cell_type": "code",
      "metadata": {
        "id": "g37_rMEmEN1Q",
        "colab_type": "code",
        "colab": {
          "base_uri": "https://localhost:8080/",
          "height": 299
        },
        "outputId": "c86714ff-02d4-4c65-984a-229ac3b55703"
      },
      "source": [
        "images, labels = next(iter(trainloader))\n",
        "plt.imshow(images[0].numpy().squeeze())\n",
        "print(labels[0])\n",
        "ps = torch.nn.functional.softmax(model.forward(images.resize_(64,784)),dim=1)\n",
        "print(\"Prediction : {}\".format(ps.max(1)[1][0]))"
      ],
      "execution_count": 9,
      "outputs": [
        {
          "output_type": "stream",
          "text": [
            "tensor(7)\n",
            "Prediction : 7\n"
          ],
          "name": "stdout"
        },
        {
          "output_type": "display_data",
          "data": {
            "image/png": "[encoded data removed]",
            "text/plain": [
              "<Figure size 432x288 with 1 Axes>"
            ]
          },
          "metadata": {
            "tags": [],
            "needs_background": "light"
          }
        }
      ]
    },
    {
      "cell_type": "code",
      "metadata": {
        "id": "pBGz0RmHE5dD",
        "colab_type": "code",
        "colab": {}
      },
      "source": [
        ""
      ],
      "execution_count": null,
      "outputs": []
    }
  ]
}