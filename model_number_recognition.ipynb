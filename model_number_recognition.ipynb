{
  "nbformat": 4,
  "nbformat_minor": 0,
  "metadata": {
    "colab": {
      "name": "model_number_recognition.ipynb",
      "provenance": [],
      "collapsed_sections": [],
      "authorship_tag": "ABX9TyOOeHEkjuiYqBDCizcaNNI4",
      "include_colab_link": true
    },
    "kernelspec": {
      "name": "python3",
      "display_name": "Python 3"
    }
  },
  "cells": [
    {
      "cell_type": "markdown",
      "metadata": {
        "id": "view-in-github",
        "colab_type": "text"
      },
      "source": [
        "<a href=\"https://colab.research.google.com/github/imasy36/Machine-Learning-with-python/blob/master/model_number_recognition.ipynb\" target=\"_parent\"><img src=\"https://colab.research.google.com/assets/colab-badge.svg\" alt=\"Open In Colab\"/></a>"
      ]
    },
    {
      "cell_type": "code",
      "metadata": {
        "id": "lIG-WBx4nMix",
        "colab_type": "code",
        "colab": {}
      },
      "source": [
        "# first deep learning model for recognising handwritten numbers"
      ],
      "execution_count": 1,
      "outputs": []
    },
    {
      "cell_type": "code",
      "metadata": {
        "id": "8PwaQbLunm2B",
        "colab_type": "code",
        "colab": {}
      },
      "source": [
        "%matplotlib inline\n",
        "import matplotlib.pyplot as plt\n",
        "import numpy as np\n",
        "from torch import nn\n",
        "from torch import optim"
      ],
      "execution_count": 2,
      "outputs": []
    },
    {
      "cell_type": "code",
      "metadata": {
        "id": "1k6figyfw8yg",
        "colab_type": "code",
        "colab": {}
      },
      "source": [
        "# getting data\n",
        "import torch \n",
        "from torchvision import datasets, transforms"
      ],
      "execution_count": 3,
      "outputs": []
    },
    {
      "cell_type": "code",
      "metadata": {
        "id": "Lud0rhspzoRG",
        "colab_type": "code",
        "colab": {}
      },
      "source": [
        "transform = transforms.Compose([transforms.ToTensor(), transforms.Normalize((0.5,),(0.5,))])\n",
        "traindata = datasets.MNIST('MNIST_data/',train=True, download=True, transform=transform)\n",
        "trainloader = torch.utils.data.DataLoader(traindata, batch_size=64, shuffle=True)\n",
        "testdata = datasets.MNIST('MNIST_data/',train=False, download=True, transform=transform)\n",
        "testloader = torch.utils.data.DataLoader(testdata, batch_size=64, shuffle=True)"
      ],
      "execution_count": 4,
      "outputs": []
    },
    {
      "cell_type": "code",
      "metadata": {
        "id": "sXgUrthOj1Xg",
        "colab_type": "code",
        "colab": {
          "base_uri": "https://localhost:8080/",
          "height": 282
        },
        "outputId": "23969062-5d12-443c-d5c7-7de1c455ab9c"
      },
      "source": [
        "# verifying data\n",
        "iter_var = iter(trainloader)\n",
        "images, labels = iter_var.next()\n",
        "plt.imshow(images[4].numpy().squeeze())\n",
        "print(labels[4])"
      ],
      "execution_count": 5,
      "outputs": [
        {
          "output_type": "stream",
          "text": [
            "tensor(1)\n"
          ],
          "name": "stdout"
        },
        {
          "output_type": "display_data",
          "data": {
            "image/png": "[encoded data removed]",
            "text/plain": [
              "<Figure size 432x288 with 1 Axes>"
            ]
          },
          "metadata": {
            "tags": [],
            "needs_background": "light"
          }
        }
      ]
    },
    {
      "cell_type": "code",
      "metadata": {
        "id": "lG0RvDORnuou",
        "colab_type": "code",
        "colab": {}
      },
      "source": [
        "#building model\n",
        "from collections import OrderedDict\n",
        "model = nn.Sequential(OrderedDict([\n",
        "          ('InputLayer',nn.Linear(784,128)),\n",
        "          ('Relu1',nn.ReLU()),\n",
        "          ('HiddenLayer',nn.Linear(128,64)),\n",
        "          ('Relu2',nn.ReLU()),\n",
        "          ('OutputLayer',nn.Linear(64,10)),\n",
        "          ('Softmax',nn.Softmax(dim=1)),                    \n",
        "]))"
      ],
      "execution_count": 6,
      "outputs": []
    },
    {
      "cell_type": "code",
      "metadata": {
        "id": "AhZhHhzhroxN",
        "colab_type": "code",
        "colab": {}
      },
      "source": [
        "criterion = nn.CrossEntropyLoss()\n",
        "optimizer = optim.SGD(model.parameters(), lr=0.01)"
      ],
      "execution_count": 8,
      "outputs": []
    },
    {
      "cell_type": "code",
      "metadata": {
        "id": "Y6VaWwCrqJl3",
        "colab_type": "code",
        "colab": {
          "base_uri": "https://localhost:8080/",
          "height": 969
        },
        "outputId": "daa9fe52-e36b-4b25-ed01-827fb505b9f2"
      },
      "source": [
        "# training\n",
        "epochs = 3\n",
        "print_every = 50\n",
        "running_loss = 0\n",
        "step = 0\n",
        "for e in range(epochs):\n",
        "  for images, labels in trainloader:\n",
        "    step += 1\n",
        "    images.resize_(images.shape[0], 784)\n",
        "    optimizer.zero_grad()\n",
        "    output = model.forward(images)\n",
        "    loss = criterion(output, labels)\n",
        "    loss.backward()\n",
        "    optimizer.step()\n",
        "    running_loss+=loss.item()\n",
        "    if step % print_every == 0:\n",
        "      print('epocs {}/{} with running loss {}'.format(e+1,epochs,running_loss/print_every))\n",
        "      running_loss = 0\n"
      ],
      "execution_count": 9,
      "outputs": [
        {
          "output_type": "stream",
          "text": [
            "epocs 1/3 with running loss 2.301346206665039\n",
            "epocs 1/3 with running loss 2.3003280925750733\n",
            "epocs 1/3 with running loss 2.299088191986084\n",
            "epocs 1/3 with running loss 2.2982191705703734\n",
            "epocs 1/3 with running loss 2.297257342338562\n",
            "epocs 1/3 with running loss 2.296124792098999\n",
            "epocs 1/3 with running loss 2.2947311115264895\n",
            "epocs 1/3 with running loss 2.293923816680908\n",
            "epocs 1/3 with running loss 2.2925721120834353\n",
            "epocs 1/3 with running loss 2.2903410243988036\n",
            "epocs 1/3 with running loss 2.2888345861434938\n",
            "epocs 1/3 with running loss 2.287828311920166\n",
            "epocs 1/3 with running loss 2.284102268218994\n",
            "epocs 1/3 with running loss 2.283163537979126\n",
            "epocs 1/3 with running loss 2.279942765235901\n",
            "epocs 1/3 with running loss 2.2758306455612183\n",
            "epocs 1/3 with running loss 2.2721207904815675\n",
            "epocs 1/3 with running loss 2.2644882440567016\n",
            "epocs 2/3 with running loss 2.256415991783142\n",
            "epocs 2/3 with running loss 2.2523171663284303\n",
            "epocs 2/3 with running loss 2.241733794212341\n",
            "epocs 2/3 with running loss 2.231934051513672\n",
            "epocs 2/3 with running loss 2.217843885421753\n",
            "epocs 2/3 with running loss 2.1966970682144167\n",
            "epocs 2/3 with running loss 2.1789133024215697\n",
            "epocs 2/3 with running loss 2.1682613706588745\n",
            "epocs 2/3 with running loss 2.163664288520813\n",
            "epocs 2/3 with running loss 2.1398734617233277\n",
            "epocs 2/3 with running loss 2.1299280405044554\n",
            "epocs 2/3 with running loss 2.1232332038879393\n",
            "epocs 2/3 with running loss 2.1051271677017214\n",
            "epocs 2/3 with running loss 2.0920924377441406\n",
            "epocs 2/3 with running loss 2.0836785793304444\n",
            "epocs 2/3 with running loss 2.0600473046302796\n",
            "epocs 2/3 with running loss 2.0480146384239197\n",
            "epocs 2/3 with running loss 2.0408209061622617\n",
            "epocs 2/3 with running loss 2.016308135986328\n",
            "epocs 3/3 with running loss 2.006698126792908\n",
            "epocs 3/3 with running loss 1.98812664270401\n",
            "epocs 3/3 with running loss 1.977376697063446\n",
            "epocs 3/3 with running loss 1.9500933122634887\n",
            "epocs 3/3 with running loss 1.960573365688324\n",
            "epocs 3/3 with running loss 1.935893976688385\n",
            "epocs 3/3 with running loss 1.9125435280799865\n",
            "epocs 3/3 with running loss 1.9114094805717468\n",
            "epocs 3/3 with running loss 1.8928730869293213\n",
            "epocs 3/3 with running loss 1.8804266786575317\n",
            "epocs 3/3 with running loss 1.865313811302185\n",
            "epocs 3/3 with running loss 1.8610312032699585\n",
            "epocs 3/3 with running loss 1.843337585926056\n",
            "epocs 3/3 with running loss 1.835544912815094\n",
            "epocs 3/3 with running loss 1.8190305972099303\n",
            "epocs 3/3 with running loss 1.8152899742126465\n",
            "epocs 3/3 with running loss 1.8164748930931092\n",
            "epocs 3/3 with running loss 1.8073578882217407\n",
            "epocs 3/3 with running loss 1.7956288313865663\n"
          ],
          "name": "stdout"
        }
      ]
    },
    {
      "cell_type": "code",
      "metadata": {
        "id": "b5DHtzmds8aB",
        "colab_type": "code",
        "colab": {
          "base_uri": "https://localhost:8080/",
          "height": 333
        },
        "outputId": "5226d6cc-c5d1-4fd2-89ec-f98ca4edee07"
      },
      "source": [
        "temp = iter(testloader)\n",
        "image, label = temp.next()\n",
        "plt.imshow(image[0].numpy().squeeze())\n",
        "with torch.no_grad():\n",
        "  out = model.forward(image[0].resize_(1,784))\n",
        "ps= nn.functional.softmax(out,dim=1) \n",
        "print(\"label - {}\".format(label[0]))\n",
        "print(ps)\n",
        "p, value = ps.max(1)\n",
        "print(\"number {} with probability {} \".format(value, p))"
      ],
      "execution_count": 32,
      "outputs": [
        {
          "output_type": "stream",
          "text": [
            "label - 8\n",
            "tensor([[0.0882, 0.0889, 0.0884, 0.1028, 0.0884, 0.0879, 0.0881, 0.0894, 0.1899,\n",
            "         0.0880]])\n",
            "number tensor([8]) with probability tensor([0.1899]) \n"
          ],
          "name": "stdout"
        },
        {
          "output_type": "display_data",
          "data": {
            "image/png": "[encoded data removed]",
            "text/plain": [
              "<Figure size 432x288 with 1 Axes>"
            ]
          },
          "metadata": {
            "tags": [],
            "needs_background": "light"
          }
        }
      ]
    },
    {
      "cell_type": "code",
      "metadata": {
        "id": "fW9wHcastiDq",
        "colab_type": "code",
        "colab": {
          "base_uri": "https://localhost:8080/",
          "height": 153
        },
        "outputId": "a4787cbc-6fe6-45ef-8064-ac66ef56ee88"
      },
      "source": [
        "print(model)"
      ],
      "execution_count": 31,
      "outputs": [
        {
          "output_type": "stream",
          "text": [
            "Sequential(\n",
            "  (InputLayer): Linear(in_features=784, out_features=128, bias=True)\n",
            "  (Relu1): ReLU()\n",
            "  (HiddenLayer): Linear(in_features=128, out_features=64, bias=True)\n",
            "  (Relu2): ReLU()\n",
            "  (OutputLayer): Linear(in_features=64, out_features=10, bias=True)\n",
            "  (Softmax): Softmax(dim=1)\n",
            ")\n"
          ],
          "name": "stdout"
        }
      ]
    },
    {
      "cell_type": "code",
      "metadata": {
        "id": "tEuA_KeMwIUY",
        "colab_type": "code",
        "colab": {}
      },
      "source": [
        ""
      ],
      "execution_count": null,
      "outputs": []
    }
  ]
}